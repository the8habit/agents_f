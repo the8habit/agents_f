{
 "cells": [
  {
   "cell_type": "markdown",
   "metadata": {},
   "source": [
    "## Welcome to the Second Lab - Week 1, Day 3\n",
    "\n",
    "Today we will work with lots of models! This is a way to get comfortable with APIs."
   ]
  },
  {
   "cell_type": "markdown",
   "metadata": {},
   "source": [
    "<table style=\"margin: 0; text-align: left; width:100%\">\n",
    "    <tr>\n",
    "        <td style=\"width: 150px; height: 150px; vertical-align: middle;\">\n",
    "            <img src=\"../assets/stop.png\" width=\"150\" height=\"150\" style=\"display: block;\" />\n",
    "        </td>\n",
    "        <td>\n",
    "            <h2 style=\"color:#ff7800;\">Important point - please read</h2>\n",
    "            <span style=\"color:#ff7800;\">The way I collaborate with you may be different to other courses you've taken. I prefer not to type code while you watch. Rather, I execute Jupyter Labs, like this, and give you an intuition for what's going on. My suggestion is that you carefully execute this yourself, <b>after</b> watching the lecture. Add print statements to understand what's going on, and then come up with your own variations.<br/><br/>If you have time, I'd love it if you submit a PR for changes in the community_contributions folder - instructions in the resources. Also, if you have a Github account, use this to showcase your variations. Not only is this essential practice, but it demonstrates your skills to others, including perhaps future clients or employers...\n",
    "            </span>\n",
    "        </td>\n",
    "    </tr>\n",
    "</table>"
   ]
  },
  {
   "cell_type": "code",
   "execution_count": 1,
   "metadata": {},
   "outputs": [],
   "source": [
    "# Start with imports - ask ChatGPT to explain any package that you don't know\n",
    "\n",
    "import os\n",
    "import json\n",
    "from dotenv import load_dotenv\n",
    "from openai import OpenAI\n",
    "from anthropic import Anthropic\n",
    "from IPython.display import Markdown, display"
   ]
  },
  {
   "cell_type": "code",
   "execution_count": 5,
   "metadata": {},
   "outputs": [
    {
     "data": {
      "text/plain": [
       "True"
      ]
     },
     "execution_count": 5,
     "metadata": {},
     "output_type": "execute_result"
    }
   ],
   "source": [
    "# Always remember to do this!\n",
    "load_dotenv(override=True)"
   ]
  },
  {
   "cell_type": "code",
   "execution_count": 6,
   "metadata": {},
   "outputs": [
    {
     "name": "stdout",
     "output_type": "stream",
     "text": [
      "OpenAI API Key exists and begins sk-proj-\n",
      "Anthropic API Key exists and begins sk-ant-\n",
      "Google API Key exists and begins AI\n",
      "Groq API Key exists and begins gsk_\n"
     ]
    }
   ],
   "source": [
    "# Print the key prefixes to help with any debugging\n",
    "\n",
    "openai_api_key = os.getenv('OPENAI_API_KEY')\n",
    "anthropic_api_key = os.getenv('ANTHROPIC_API_KEY')\n",
    "google_api_key = os.getenv('GOOGLE_API_KEY')\n",
    "#deepseek_api_key = os.getenv('DEEPSEEK_API_KEY')\n",
    "groq_api_key = os.getenv('GROQ_API_KEY')\n",
    "\n",
    "if openai_api_key:\n",
    "    print(f\"OpenAI API Key exists and begins {openai_api_key[:8]}\")\n",
    "else:\n",
    "    print(\"OpenAI API Key not set\")\n",
    "    \n",
    "if anthropic_api_key:\n",
    "    print(f\"Anthropic API Key exists and begins {anthropic_api_key[:7]}\")\n",
    "else:\n",
    "    print(\"Anthropic API Key not set (and this is optional)\")\n",
    "\n",
    "if google_api_key:\n",
    "    print(f\"Google API Key exists and begins {google_api_key[:2]}\")\n",
    "else:\n",
    "    print(\"Google API Key not set (and this is optional)\")\n",
    "\n",
    "#if deepseek_api_key:\n",
    "#    print(f\"DeepSeek API Key exists and begins {deepseek_api_key[:3]}\")\n",
    "#else:\n",
    "#    print(\"DeepSeek API Key not set (and this is optional)\")\n",
    "\n",
    "if groq_api_key:\n",
    "    print(f\"Groq API Key exists and begins {groq_api_key[:4]}\")\n",
    "else:\n",
    "    print(\"Groq API Key not set (and this is optional)\")"
   ]
  },
  {
   "cell_type": "code",
   "execution_count": 7,
   "metadata": {},
   "outputs": [],
   "source": [
    "request = \"Please come up with a challenging, nuanced question that I can ask a number of LLMs to evaluate their intelligence. \"\n",
    "request += \"Answer only with the question, no explanation.\"\n",
    "messages = [{\"role\": \"user\", \"content\": request}]"
   ]
  },
  {
   "cell_type": "code",
   "execution_count": 8,
   "metadata": {},
   "outputs": [
    {
     "data": {
      "text/plain": [
       "[{'role': 'user',\n",
       "  'content': 'Please come up with a challenging, nuanced question that I can ask a number of LLMs to evaluate their intelligence. Answer only with the question, no explanation.'}]"
      ]
     },
     "execution_count": 8,
     "metadata": {},
     "output_type": "execute_result"
    }
   ],
   "source": [
    "messages"
   ]
  },
  {
   "cell_type": "code",
   "execution_count": 10,
   "metadata": {},
   "outputs": [
    {
     "name": "stdout",
     "output_type": "stream",
     "text": [
      "If you could design a new, interdisciplinary field of study that merges concepts from at least three existing disciplines to address a global issue, what would that field be, what specific issue would it tackle, and how would the integration of these disciplines enhance our understanding or solution to the problem?\n"
     ]
    }
   ],
   "source": [
    "openai = OpenAI()\n",
    "response = openai.chat.completions.create(\n",
    "    model=\"gpt-4o-mini\",\n",
    "    messages=messages,\n",
    ")\n",
    "question = response.choices[0].message.content\n",
    "print(question)\n"
   ]
  },
  {
   "cell_type": "code",
   "execution_count": 11,
   "metadata": {},
   "outputs": [],
   "source": [
    "competitors = []\n",
    "answers = []\n",
    "messages = [{\"role\": \"user\", \"content\": question}]"
   ]
  },
  {
   "cell_type": "code",
   "execution_count": 12,
   "metadata": {},
   "outputs": [
    {
     "data": {
      "text/markdown": [
       "### Proposed Interdisciplinary Field: Eco-Socio-Techno Systems (ESTS)\n",
       "\n",
       "#### Global Issue: Climate Change and Sustainable Development\n",
       "\n",
       "##### Overview:\n",
       "The field of Eco-Socio-Techno Systems (ESTS) aims to integrate ecological science, social sciences, and technology studies to address the complex problem of climate change and its implications for sustainable development. This interdisciplinary approach combines knowledge from environmental science, sociology, and engineering/technology to create comprehensive solutions that consider ecological balance, social equity, and technological innovation.\n",
       "\n",
       "#### Integration of Disciplines:\n",
       "\n",
       "1. **Ecological Science**: \n",
       "   - Focuses on understanding the impacts of climate change on ecosystems and biodiversity.\n",
       "   - Provides insights into sustainable resource management and conservation strategies.\n",
       "   - Uses models of ecosystem dynamics to predict outcomes of human intervention and natural changes.\n",
       "\n",
       "2. **Social Sciences**:\n",
       "   - Examines the social dimensions of climate change, including public perception, cultural attitudes, and socio-economic disparities.\n",
       "   - Investigates the role of community engagement and social movements in promoting sustainable practices.\n",
       "   - Addresses issues of climate justice, emphasizing the need to support vulnerable populations who are disproportionately affected by climate impacts.\n",
       "\n",
       "3. **Technology Studies**:\n",
       "   - Explores the role of technology in both contributing to and mitigating climate change, including renewable energy, smart grids, and carbon capture technologies.\n",
       "   - Evaluates how technological advancements can be designed for social good and ecological sustainability.\n",
       "   - Investigates the ethical implications of technological solutions, including access to technology and the potential for unintended consequences.\n",
       "\n",
       "#### Benefits of Integration:\n",
       "\n",
       "- **Holistic Understanding**: By merging insights from these three disciplines, ESTS can provide a comprehensive understanding of how ecological systems function, how societies respond to environmental challenges, and how technology can be harnessed effectively.\n",
       "  \n",
       "- **Innovative Solutions**: The interdisciplinary nature of ESTS promotes innovation by fostering collaboration between scientists, social practitioners, and engineers, leading to the development of more effective interventions that are environmentally sound, socially acceptable, and technically feasible.\n",
       "\n",
       "- **Community-Centered Approaches**: Integrating social sciences emphasizes stakeholder engagement, ensuring that solutions consider local knowledge and cultural practices, leading to greater community buy-in and sustainability of interventions.\n",
       "\n",
       "- **Resilience and Adaptation**: By understanding ecological systems, social dynamics, and technological capabilities, ESTS can devise resilience-building strategies that help communities adapt to changing climates while minimizing their carbon footprints.\n",
       "\n",
       "#### Conclusion:\n",
       "The Eco-Socio-Techno Systems field presents a promising approach to tackling the multi-faceted challenge of climate change and promoting sustainable development. By integrating the knowledge and methodologies from ecology, sociology, and technology, we can develop robust, equitable, and innovative solutions that not only address the immediate challenges posed by climate change but also pave the way for a sustainable future for all. This field encourages collaboration across disciplines, fostering a deeper understanding of the interconnectedness of human and ecological systems, which is crucial for effective climate action."
      ],
      "text/plain": [
       "<IPython.core.display.Markdown object>"
      ]
     },
     "metadata": {},
     "output_type": "display_data"
    }
   ],
   "source": [
    "# The API we know well\n",
    "\n",
    "model_name = \"gpt-4o-mini\"\n",
    "\n",
    "response = openai.chat.completions.create(model=model_name, messages=messages)\n",
    "answer = response.choices[0].message.content\n",
    "\n",
    "display(Markdown(answer))\n",
    "competitors.append(model_name)\n",
    "answers.append(answer)"
   ]
  },
  {
   "cell_type": "code",
   "execution_count": 13,
   "metadata": {},
   "outputs": [
    {
     "data": {
      "text/markdown": [
       "# Regenerative Systems Design: A New Interdisciplinary Field\n",
       "\n",
       "I envision a field called **Regenerative Systems Design** that would integrate:\n",
       "\n",
       "1. **Ecology and Environmental Science**\n",
       "2. **Economics and Policy Design**\n",
       "3. **Digital Technology and Data Science**\n",
       "4. **Anthropology and Cultural Studies**\n",
       "\n",
       "This field would address the fundamental challenge of our time: how to create human systems that regenerate rather than deplete our ecological, social, and economic resources.\n",
       "\n",
       "## The Global Issue\n",
       "\n",
       "Our current paradigm of extraction and consumption has created cascading crises - climate change, biodiversity loss, resource depletion, and social inequality. These aren't separate problems but symptoms of systems designed without regenerative principles.\n",
       "\n",
       "## How Integration Enhances Solutions\n",
       "\n",
       "Regenerative Systems Design would:\n",
       "\n",
       "**Bridge Knowledge Silos**: Ecologists understand natural cycles but may lack economic implementation tools. Economists create policy but often without ecological understanding. Technologists create powerful tools but may miss cultural contexts. Anthropologists understand cultural systems but may lack implementation mechanisms.\n",
       "\n",
       "**Create New Methodologies**: By combining ecological modeling with economic frameworks and digital technology, we could design data-driven systems that monitor and adapt in real-time while respecting cultural contexts.\n",
       "\n",
       "**Practical Applications**:\n",
       "- Design urban food systems that sequester carbon, build soil, and create circular economies\n",
       "- Develop economic indicators that measure regenerative capacity, not just growth\n",
       "- Create technology platforms that enable collaborative resource management across stakeholder groups\n",
       "- Design policy frameworks that align economic incentives with ecological restoration\n",
       "\n",
       "This field would train practitioners to think across boundaries, combining the rigor of science with the systems thinking of ecology, the practical tools of economics, the scaling power of technology, and the contextual wisdom of anthropology."
      ],
      "text/plain": [
       "<IPython.core.display.Markdown object>"
      ]
     },
     "metadata": {},
     "output_type": "display_data"
    }
   ],
   "source": [
    "# Anthropic has a slightly different API, and Max Tokens is required\n",
    "\n",
    "model_name = \"claude-3-7-sonnet-latest\"\n",
    "\n",
    "claude = Anthropic()\n",
    "response = claude.messages.create(model=model_name, messages=messages, max_tokens=1000)\n",
    "answer = response.content[0].text\n",
    "\n",
    "display(Markdown(answer))\n",
    "competitors.append(model_name)\n",
    "answers.append(answer)"
   ]
  },
  {
   "cell_type": "code",
   "execution_count": 15,
   "metadata": {},
   "outputs": [
    {
     "ename": "BadRequestError",
     "evalue": "Error code: 400 - [{'error': {'code': 400, 'message': 'User location is not supported for the API use.', 'status': 'FAILED_PRECONDITION'}}]",
     "output_type": "error",
     "traceback": [
      "\u001b[31m---------------------------------------------------------------------------\u001b[39m",
      "\u001b[31mBadRequestError\u001b[39m                           Traceback (most recent call last)",
      "\u001b[36mCell\u001b[39m\u001b[36m \u001b[39m\u001b[32mIn[15]\u001b[39m\u001b[32m, line 4\u001b[39m\n\u001b[32m      1\u001b[39m gemini = OpenAI(api_key=google_api_key, base_url=\u001b[33m\"\u001b[39m\u001b[33mhttps://generativelanguage.googleapis.com/v1beta/openai/\u001b[39m\u001b[33m\"\u001b[39m)\n\u001b[32m      2\u001b[39m model_name = \u001b[33m\"\u001b[39m\u001b[33mgemini-2.0-flash\u001b[39m\u001b[33m\"\u001b[39m\n\u001b[32m----> \u001b[39m\u001b[32m4\u001b[39m response = \u001b[43mgemini\u001b[49m\u001b[43m.\u001b[49m\u001b[43mchat\u001b[49m\u001b[43m.\u001b[49m\u001b[43mcompletions\u001b[49m\u001b[43m.\u001b[49m\u001b[43mcreate\u001b[49m\u001b[43m(\u001b[49m\u001b[43mmodel\u001b[49m\u001b[43m=\u001b[49m\u001b[43mmodel_name\u001b[49m\u001b[43m,\u001b[49m\u001b[43m \u001b[49m\u001b[43mmessages\u001b[49m\u001b[43m=\u001b[49m\u001b[43mmessages\u001b[49m\u001b[43m)\u001b[49m\n\u001b[32m      5\u001b[39m answer = response.choices[\u001b[32m0\u001b[39m].message.content\n\u001b[32m      7\u001b[39m display(Markdown(answer))\n",
      "\u001b[36mFile \u001b[39m\u001b[32me:\\projects\\AI\\agents\\agents\\.venv\\Lib\\site-packages\\openai\\_utils\\_utils.py:287\u001b[39m, in \u001b[36mrequired_args.<locals>.inner.<locals>.wrapper\u001b[39m\u001b[34m(*args, **kwargs)\u001b[39m\n\u001b[32m    285\u001b[39m             msg = \u001b[33mf\u001b[39m\u001b[33m\"\u001b[39m\u001b[33mMissing required argument: \u001b[39m\u001b[38;5;132;01m{\u001b[39;00mquote(missing[\u001b[32m0\u001b[39m])\u001b[38;5;132;01m}\u001b[39;00m\u001b[33m\"\u001b[39m\n\u001b[32m    286\u001b[39m     \u001b[38;5;28;01mraise\u001b[39;00m \u001b[38;5;167;01mTypeError\u001b[39;00m(msg)\n\u001b[32m--> \u001b[39m\u001b[32m287\u001b[39m \u001b[38;5;28;01mreturn\u001b[39;00m \u001b[43mfunc\u001b[49m\u001b[43m(\u001b[49m\u001b[43m*\u001b[49m\u001b[43margs\u001b[49m\u001b[43m,\u001b[49m\u001b[43m \u001b[49m\u001b[43m*\u001b[49m\u001b[43m*\u001b[49m\u001b[43mkwargs\u001b[49m\u001b[43m)\u001b[49m\n",
      "\u001b[36mFile \u001b[39m\u001b[32me:\\projects\\AI\\agents\\agents\\.venv\\Lib\\site-packages\\openai\\resources\\chat\\completions\\completions.py:925\u001b[39m, in \u001b[36mCompletions.create\u001b[39m\u001b[34m(self, messages, model, audio, frequency_penalty, function_call, functions, logit_bias, logprobs, max_completion_tokens, max_tokens, metadata, modalities, n, parallel_tool_calls, prediction, presence_penalty, reasoning_effort, response_format, seed, service_tier, stop, store, stream, stream_options, temperature, tool_choice, tools, top_logprobs, top_p, user, web_search_options, extra_headers, extra_query, extra_body, timeout)\u001b[39m\n\u001b[32m    882\u001b[39m \u001b[38;5;129m@required_args\u001b[39m([\u001b[33m\"\u001b[39m\u001b[33mmessages\u001b[39m\u001b[33m\"\u001b[39m, \u001b[33m\"\u001b[39m\u001b[33mmodel\u001b[39m\u001b[33m\"\u001b[39m], [\u001b[33m\"\u001b[39m\u001b[33mmessages\u001b[39m\u001b[33m\"\u001b[39m, \u001b[33m\"\u001b[39m\u001b[33mmodel\u001b[39m\u001b[33m\"\u001b[39m, \u001b[33m\"\u001b[39m\u001b[33mstream\u001b[39m\u001b[33m\"\u001b[39m])\n\u001b[32m    883\u001b[39m \u001b[38;5;28;01mdef\u001b[39;00m\u001b[38;5;250m \u001b[39m\u001b[34mcreate\u001b[39m(\n\u001b[32m    884\u001b[39m     \u001b[38;5;28mself\u001b[39m,\n\u001b[32m   (...)\u001b[39m\u001b[32m    922\u001b[39m     timeout: \u001b[38;5;28mfloat\u001b[39m | httpx.Timeout | \u001b[38;5;28;01mNone\u001b[39;00m | NotGiven = NOT_GIVEN,\n\u001b[32m    923\u001b[39m ) -> ChatCompletion | Stream[ChatCompletionChunk]:\n\u001b[32m    924\u001b[39m     validate_response_format(response_format)\n\u001b[32m--> \u001b[39m\u001b[32m925\u001b[39m     \u001b[38;5;28;01mreturn\u001b[39;00m \u001b[38;5;28;43mself\u001b[39;49m\u001b[43m.\u001b[49m\u001b[43m_post\u001b[49m\u001b[43m(\u001b[49m\n\u001b[32m    926\u001b[39m \u001b[43m        \u001b[49m\u001b[33;43m\"\u001b[39;49m\u001b[33;43m/chat/completions\u001b[39;49m\u001b[33;43m\"\u001b[39;49m\u001b[43m,\u001b[49m\n\u001b[32m    927\u001b[39m \u001b[43m        \u001b[49m\u001b[43mbody\u001b[49m\u001b[43m=\u001b[49m\u001b[43mmaybe_transform\u001b[49m\u001b[43m(\u001b[49m\n\u001b[32m    928\u001b[39m \u001b[43m            \u001b[49m\u001b[43m{\u001b[49m\n\u001b[32m    929\u001b[39m \u001b[43m                \u001b[49m\u001b[33;43m\"\u001b[39;49m\u001b[33;43mmessages\u001b[39;49m\u001b[33;43m\"\u001b[39;49m\u001b[43m:\u001b[49m\u001b[43m \u001b[49m\u001b[43mmessages\u001b[49m\u001b[43m,\u001b[49m\n\u001b[32m    930\u001b[39m \u001b[43m                \u001b[49m\u001b[33;43m\"\u001b[39;49m\u001b[33;43mmodel\u001b[39;49m\u001b[33;43m\"\u001b[39;49m\u001b[43m:\u001b[49m\u001b[43m \u001b[49m\u001b[43mmodel\u001b[49m\u001b[43m,\u001b[49m\n\u001b[32m    931\u001b[39m \u001b[43m                \u001b[49m\u001b[33;43m\"\u001b[39;49m\u001b[33;43maudio\u001b[39;49m\u001b[33;43m\"\u001b[39;49m\u001b[43m:\u001b[49m\u001b[43m \u001b[49m\u001b[43maudio\u001b[49m\u001b[43m,\u001b[49m\n\u001b[32m    932\u001b[39m \u001b[43m                \u001b[49m\u001b[33;43m\"\u001b[39;49m\u001b[33;43mfrequency_penalty\u001b[39;49m\u001b[33;43m\"\u001b[39;49m\u001b[43m:\u001b[49m\u001b[43m \u001b[49m\u001b[43mfrequency_penalty\u001b[49m\u001b[43m,\u001b[49m\n\u001b[32m    933\u001b[39m \u001b[43m                \u001b[49m\u001b[33;43m\"\u001b[39;49m\u001b[33;43mfunction_call\u001b[39;49m\u001b[33;43m\"\u001b[39;49m\u001b[43m:\u001b[49m\u001b[43m \u001b[49m\u001b[43mfunction_call\u001b[49m\u001b[43m,\u001b[49m\n\u001b[32m    934\u001b[39m \u001b[43m                \u001b[49m\u001b[33;43m\"\u001b[39;49m\u001b[33;43mfunctions\u001b[39;49m\u001b[33;43m\"\u001b[39;49m\u001b[43m:\u001b[49m\u001b[43m \u001b[49m\u001b[43mfunctions\u001b[49m\u001b[43m,\u001b[49m\n\u001b[32m    935\u001b[39m \u001b[43m                \u001b[49m\u001b[33;43m\"\u001b[39;49m\u001b[33;43mlogit_bias\u001b[39;49m\u001b[33;43m\"\u001b[39;49m\u001b[43m:\u001b[49m\u001b[43m \u001b[49m\u001b[43mlogit_bias\u001b[49m\u001b[43m,\u001b[49m\n\u001b[32m    936\u001b[39m \u001b[43m                \u001b[49m\u001b[33;43m\"\u001b[39;49m\u001b[33;43mlogprobs\u001b[39;49m\u001b[33;43m\"\u001b[39;49m\u001b[43m:\u001b[49m\u001b[43m \u001b[49m\u001b[43mlogprobs\u001b[49m\u001b[43m,\u001b[49m\n\u001b[32m    937\u001b[39m \u001b[43m                \u001b[49m\u001b[33;43m\"\u001b[39;49m\u001b[33;43mmax_completion_tokens\u001b[39;49m\u001b[33;43m\"\u001b[39;49m\u001b[43m:\u001b[49m\u001b[43m \u001b[49m\u001b[43mmax_completion_tokens\u001b[49m\u001b[43m,\u001b[49m\n\u001b[32m    938\u001b[39m \u001b[43m                \u001b[49m\u001b[33;43m\"\u001b[39;49m\u001b[33;43mmax_tokens\u001b[39;49m\u001b[33;43m\"\u001b[39;49m\u001b[43m:\u001b[49m\u001b[43m \u001b[49m\u001b[43mmax_tokens\u001b[49m\u001b[43m,\u001b[49m\n\u001b[32m    939\u001b[39m \u001b[43m                \u001b[49m\u001b[33;43m\"\u001b[39;49m\u001b[33;43mmetadata\u001b[39;49m\u001b[33;43m\"\u001b[39;49m\u001b[43m:\u001b[49m\u001b[43m \u001b[49m\u001b[43mmetadata\u001b[49m\u001b[43m,\u001b[49m\n\u001b[32m    940\u001b[39m \u001b[43m                \u001b[49m\u001b[33;43m\"\u001b[39;49m\u001b[33;43mmodalities\u001b[39;49m\u001b[33;43m\"\u001b[39;49m\u001b[43m:\u001b[49m\u001b[43m \u001b[49m\u001b[43mmodalities\u001b[49m\u001b[43m,\u001b[49m\n\u001b[32m    941\u001b[39m \u001b[43m                \u001b[49m\u001b[33;43m\"\u001b[39;49m\u001b[33;43mn\u001b[39;49m\u001b[33;43m\"\u001b[39;49m\u001b[43m:\u001b[49m\u001b[43m \u001b[49m\u001b[43mn\u001b[49m\u001b[43m,\u001b[49m\n\u001b[32m    942\u001b[39m \u001b[43m                \u001b[49m\u001b[33;43m\"\u001b[39;49m\u001b[33;43mparallel_tool_calls\u001b[39;49m\u001b[33;43m\"\u001b[39;49m\u001b[43m:\u001b[49m\u001b[43m \u001b[49m\u001b[43mparallel_tool_calls\u001b[49m\u001b[43m,\u001b[49m\n\u001b[32m    943\u001b[39m \u001b[43m                \u001b[49m\u001b[33;43m\"\u001b[39;49m\u001b[33;43mprediction\u001b[39;49m\u001b[33;43m\"\u001b[39;49m\u001b[43m:\u001b[49m\u001b[43m \u001b[49m\u001b[43mprediction\u001b[49m\u001b[43m,\u001b[49m\n\u001b[32m    944\u001b[39m \u001b[43m                \u001b[49m\u001b[33;43m\"\u001b[39;49m\u001b[33;43mpresence_penalty\u001b[39;49m\u001b[33;43m\"\u001b[39;49m\u001b[43m:\u001b[49m\u001b[43m \u001b[49m\u001b[43mpresence_penalty\u001b[49m\u001b[43m,\u001b[49m\n\u001b[32m    945\u001b[39m \u001b[43m                \u001b[49m\u001b[33;43m\"\u001b[39;49m\u001b[33;43mreasoning_effort\u001b[39;49m\u001b[33;43m\"\u001b[39;49m\u001b[43m:\u001b[49m\u001b[43m \u001b[49m\u001b[43mreasoning_effort\u001b[49m\u001b[43m,\u001b[49m\n\u001b[32m    946\u001b[39m \u001b[43m                \u001b[49m\u001b[33;43m\"\u001b[39;49m\u001b[33;43mresponse_format\u001b[39;49m\u001b[33;43m\"\u001b[39;49m\u001b[43m:\u001b[49m\u001b[43m \u001b[49m\u001b[43mresponse_format\u001b[49m\u001b[43m,\u001b[49m\n\u001b[32m    947\u001b[39m \u001b[43m                \u001b[49m\u001b[33;43m\"\u001b[39;49m\u001b[33;43mseed\u001b[39;49m\u001b[33;43m\"\u001b[39;49m\u001b[43m:\u001b[49m\u001b[43m \u001b[49m\u001b[43mseed\u001b[49m\u001b[43m,\u001b[49m\n\u001b[32m    948\u001b[39m \u001b[43m                \u001b[49m\u001b[33;43m\"\u001b[39;49m\u001b[33;43mservice_tier\u001b[39;49m\u001b[33;43m\"\u001b[39;49m\u001b[43m:\u001b[49m\u001b[43m \u001b[49m\u001b[43mservice_tier\u001b[49m\u001b[43m,\u001b[49m\n\u001b[32m    949\u001b[39m \u001b[43m                \u001b[49m\u001b[33;43m\"\u001b[39;49m\u001b[33;43mstop\u001b[39;49m\u001b[33;43m\"\u001b[39;49m\u001b[43m:\u001b[49m\u001b[43m \u001b[49m\u001b[43mstop\u001b[49m\u001b[43m,\u001b[49m\n\u001b[32m    950\u001b[39m \u001b[43m                \u001b[49m\u001b[33;43m\"\u001b[39;49m\u001b[33;43mstore\u001b[39;49m\u001b[33;43m\"\u001b[39;49m\u001b[43m:\u001b[49m\u001b[43m \u001b[49m\u001b[43mstore\u001b[49m\u001b[43m,\u001b[49m\n\u001b[32m    951\u001b[39m \u001b[43m                \u001b[49m\u001b[33;43m\"\u001b[39;49m\u001b[33;43mstream\u001b[39;49m\u001b[33;43m\"\u001b[39;49m\u001b[43m:\u001b[49m\u001b[43m \u001b[49m\u001b[43mstream\u001b[49m\u001b[43m,\u001b[49m\n\u001b[32m    952\u001b[39m \u001b[43m                \u001b[49m\u001b[33;43m\"\u001b[39;49m\u001b[33;43mstream_options\u001b[39;49m\u001b[33;43m\"\u001b[39;49m\u001b[43m:\u001b[49m\u001b[43m \u001b[49m\u001b[43mstream_options\u001b[49m\u001b[43m,\u001b[49m\n\u001b[32m    953\u001b[39m \u001b[43m                \u001b[49m\u001b[33;43m\"\u001b[39;49m\u001b[33;43mtemperature\u001b[39;49m\u001b[33;43m\"\u001b[39;49m\u001b[43m:\u001b[49m\u001b[43m \u001b[49m\u001b[43mtemperature\u001b[49m\u001b[43m,\u001b[49m\n\u001b[32m    954\u001b[39m \u001b[43m                \u001b[49m\u001b[33;43m\"\u001b[39;49m\u001b[33;43mtool_choice\u001b[39;49m\u001b[33;43m\"\u001b[39;49m\u001b[43m:\u001b[49m\u001b[43m \u001b[49m\u001b[43mtool_choice\u001b[49m\u001b[43m,\u001b[49m\n\u001b[32m    955\u001b[39m \u001b[43m                \u001b[49m\u001b[33;43m\"\u001b[39;49m\u001b[33;43mtools\u001b[39;49m\u001b[33;43m\"\u001b[39;49m\u001b[43m:\u001b[49m\u001b[43m \u001b[49m\u001b[43mtools\u001b[49m\u001b[43m,\u001b[49m\n\u001b[32m    956\u001b[39m \u001b[43m                \u001b[49m\u001b[33;43m\"\u001b[39;49m\u001b[33;43mtop_logprobs\u001b[39;49m\u001b[33;43m\"\u001b[39;49m\u001b[43m:\u001b[49m\u001b[43m \u001b[49m\u001b[43mtop_logprobs\u001b[49m\u001b[43m,\u001b[49m\n\u001b[32m    957\u001b[39m \u001b[43m                \u001b[49m\u001b[33;43m\"\u001b[39;49m\u001b[33;43mtop_p\u001b[39;49m\u001b[33;43m\"\u001b[39;49m\u001b[43m:\u001b[49m\u001b[43m \u001b[49m\u001b[43mtop_p\u001b[49m\u001b[43m,\u001b[49m\n\u001b[32m    958\u001b[39m \u001b[43m                \u001b[49m\u001b[33;43m\"\u001b[39;49m\u001b[33;43muser\u001b[39;49m\u001b[33;43m\"\u001b[39;49m\u001b[43m:\u001b[49m\u001b[43m \u001b[49m\u001b[43muser\u001b[49m\u001b[43m,\u001b[49m\n\u001b[32m    959\u001b[39m \u001b[43m                \u001b[49m\u001b[33;43m\"\u001b[39;49m\u001b[33;43mweb_search_options\u001b[39;49m\u001b[33;43m\"\u001b[39;49m\u001b[43m:\u001b[49m\u001b[43m \u001b[49m\u001b[43mweb_search_options\u001b[49m\u001b[43m,\u001b[49m\n\u001b[32m    960\u001b[39m \u001b[43m            \u001b[49m\u001b[43m}\u001b[49m\u001b[43m,\u001b[49m\n\u001b[32m    961\u001b[39m \u001b[43m            \u001b[49m\u001b[43mcompletion_create_params\u001b[49m\u001b[43m.\u001b[49m\u001b[43mCompletionCreateParamsStreaming\u001b[49m\n\u001b[32m    962\u001b[39m \u001b[43m            \u001b[49m\u001b[38;5;28;43;01mif\u001b[39;49;00m\u001b[43m \u001b[49m\u001b[43mstream\u001b[49m\n\u001b[32m    963\u001b[39m \u001b[43m            \u001b[49m\u001b[38;5;28;43;01melse\u001b[39;49;00m\u001b[43m \u001b[49m\u001b[43mcompletion_create_params\u001b[49m\u001b[43m.\u001b[49m\u001b[43mCompletionCreateParamsNonStreaming\u001b[49m\u001b[43m,\u001b[49m\n\u001b[32m    964\u001b[39m \u001b[43m        \u001b[49m\u001b[43m)\u001b[49m\u001b[43m,\u001b[49m\n\u001b[32m    965\u001b[39m \u001b[43m        \u001b[49m\u001b[43moptions\u001b[49m\u001b[43m=\u001b[49m\u001b[43mmake_request_options\u001b[49m\u001b[43m(\u001b[49m\n\u001b[32m    966\u001b[39m \u001b[43m            \u001b[49m\u001b[43mextra_headers\u001b[49m\u001b[43m=\u001b[49m\u001b[43mextra_headers\u001b[49m\u001b[43m,\u001b[49m\u001b[43m \u001b[49m\u001b[43mextra_query\u001b[49m\u001b[43m=\u001b[49m\u001b[43mextra_query\u001b[49m\u001b[43m,\u001b[49m\u001b[43m \u001b[49m\u001b[43mextra_body\u001b[49m\u001b[43m=\u001b[49m\u001b[43mextra_body\u001b[49m\u001b[43m,\u001b[49m\u001b[43m \u001b[49m\u001b[43mtimeout\u001b[49m\u001b[43m=\u001b[49m\u001b[43mtimeout\u001b[49m\n\u001b[32m    967\u001b[39m \u001b[43m        \u001b[49m\u001b[43m)\u001b[49m\u001b[43m,\u001b[49m\n\u001b[32m    968\u001b[39m \u001b[43m        \u001b[49m\u001b[43mcast_to\u001b[49m\u001b[43m=\u001b[49m\u001b[43mChatCompletion\u001b[49m\u001b[43m,\u001b[49m\n\u001b[32m    969\u001b[39m \u001b[43m        \u001b[49m\u001b[43mstream\u001b[49m\u001b[43m=\u001b[49m\u001b[43mstream\u001b[49m\u001b[43m \u001b[49m\u001b[38;5;129;43;01mor\u001b[39;49;00m\u001b[43m \u001b[49m\u001b[38;5;28;43;01mFalse\u001b[39;49;00m\u001b[43m,\u001b[49m\n\u001b[32m    970\u001b[39m \u001b[43m        \u001b[49m\u001b[43mstream_cls\u001b[49m\u001b[43m=\u001b[49m\u001b[43mStream\u001b[49m\u001b[43m[\u001b[49m\u001b[43mChatCompletionChunk\u001b[49m\u001b[43m]\u001b[49m\u001b[43m,\u001b[49m\n\u001b[32m    971\u001b[39m \u001b[43m    \u001b[49m\u001b[43m)\u001b[49m\n",
      "\u001b[36mFile \u001b[39m\u001b[32me:\\projects\\AI\\agents\\agents\\.venv\\Lib\\site-packages\\openai\\_base_client.py:1249\u001b[39m, in \u001b[36mSyncAPIClient.post\u001b[39m\u001b[34m(self, path, cast_to, body, options, files, stream, stream_cls)\u001b[39m\n\u001b[32m   1235\u001b[39m \u001b[38;5;28;01mdef\u001b[39;00m\u001b[38;5;250m \u001b[39m\u001b[34mpost\u001b[39m(\n\u001b[32m   1236\u001b[39m     \u001b[38;5;28mself\u001b[39m,\n\u001b[32m   1237\u001b[39m     path: \u001b[38;5;28mstr\u001b[39m,\n\u001b[32m   (...)\u001b[39m\u001b[32m   1244\u001b[39m     stream_cls: \u001b[38;5;28mtype\u001b[39m[_StreamT] | \u001b[38;5;28;01mNone\u001b[39;00m = \u001b[38;5;28;01mNone\u001b[39;00m,\n\u001b[32m   1245\u001b[39m ) -> ResponseT | _StreamT:\n\u001b[32m   1246\u001b[39m     opts = FinalRequestOptions.construct(\n\u001b[32m   1247\u001b[39m         method=\u001b[33m\"\u001b[39m\u001b[33mpost\u001b[39m\u001b[33m\"\u001b[39m, url=path, json_data=body, files=to_httpx_files(files), **options\n\u001b[32m   1248\u001b[39m     )\n\u001b[32m-> \u001b[39m\u001b[32m1249\u001b[39m     \u001b[38;5;28;01mreturn\u001b[39;00m cast(ResponseT, \u001b[38;5;28;43mself\u001b[39;49m\u001b[43m.\u001b[49m\u001b[43mrequest\u001b[49m\u001b[43m(\u001b[49m\u001b[43mcast_to\u001b[49m\u001b[43m,\u001b[49m\u001b[43m \u001b[49m\u001b[43mopts\u001b[49m\u001b[43m,\u001b[49m\u001b[43m \u001b[49m\u001b[43mstream\u001b[49m\u001b[43m=\u001b[49m\u001b[43mstream\u001b[49m\u001b[43m,\u001b[49m\u001b[43m \u001b[49m\u001b[43mstream_cls\u001b[49m\u001b[43m=\u001b[49m\u001b[43mstream_cls\u001b[49m\u001b[43m)\u001b[49m)\n",
      "\u001b[36mFile \u001b[39m\u001b[32me:\\projects\\AI\\agents\\agents\\.venv\\Lib\\site-packages\\openai\\_base_client.py:1037\u001b[39m, in \u001b[36mSyncAPIClient.request\u001b[39m\u001b[34m(self, cast_to, options, stream, stream_cls)\u001b[39m\n\u001b[32m   1034\u001b[39m             err.response.read()\n\u001b[32m   1036\u001b[39m         log.debug(\u001b[33m\"\u001b[39m\u001b[33mRe-raising status error\u001b[39m\u001b[33m\"\u001b[39m)\n\u001b[32m-> \u001b[39m\u001b[32m1037\u001b[39m         \u001b[38;5;28;01mraise\u001b[39;00m \u001b[38;5;28mself\u001b[39m._make_status_error_from_response(err.response) \u001b[38;5;28;01mfrom\u001b[39;00m\u001b[38;5;250m \u001b[39m\u001b[38;5;28;01mNone\u001b[39;00m\n\u001b[32m   1039\u001b[39m     \u001b[38;5;28;01mbreak\u001b[39;00m\n\u001b[32m   1041\u001b[39m \u001b[38;5;28;01massert\u001b[39;00m response \u001b[38;5;129;01mis\u001b[39;00m \u001b[38;5;129;01mnot\u001b[39;00m \u001b[38;5;28;01mNone\u001b[39;00m, \u001b[33m\"\u001b[39m\u001b[33mcould not resolve response (should never happen)\u001b[39m\u001b[33m\"\u001b[39m\n",
      "\u001b[31mBadRequestError\u001b[39m: Error code: 400 - [{'error': {'code': 400, 'message': 'User location is not supported for the API use.', 'status': 'FAILED_PRECONDITION'}}]"
     ]
    }
   ],
   "source": [
    "gemini = OpenAI(api_key=google_api_key, base_url=\"https://generativelanguage.googleapis.com/v1beta/openai/\")\n",
    "model_name = \"gemini-2.0-flash\"\n",
    "\n",
    "response = gemini.chat.completions.create(model=model_name, messages=messages)\n",
    "answer = response.choices[0].message.content\n",
    "\n",
    "display(Markdown(answer))\n",
    "competitors.append(model_name)\n",
    "answers.append(answer)"
   ]
  },
  {
   "cell_type": "code",
   "execution_count": null,
   "metadata": {},
   "outputs": [],
   "source": [
    "deepseek = OpenAI(api_key=deepseek_api_key, base_url=\"https://api.deepseek.com/v1\")\n",
    "model_name = \"deepseek-chat\"\n",
    "\n",
    "response = deepseek.chat.completions.create(model=model_name, messages=messages)\n",
    "answer = response.choices[0].message.content\n",
    "\n",
    "display(Markdown(answer))\n",
    "competitors.append(model_name)\n",
    "answers.append(answer)"
   ]
  },
  {
   "cell_type": "code",
   "execution_count": 16,
   "metadata": {},
   "outputs": [
    {
     "data": {
      "text/markdown": [
       "If I could design a new, interdisciplinary field of study, I would propose the field of \"Sustainable Urban Ecosystems\" (SUE), which merges concepts from ecology, urban planning, and social sciences to address the global issue of sustainable urbanization.\n",
       "\n",
       "**Global Issue:**\n",
       "The world is rapidly urbanizing, with over 60% of the global population projected to live in cities by 2030. This trend poses significant challenges, including environmental degradation, social inequality, and economic instability. Urban areas are major contributors to greenhouse gas emissions, resource consumption, and waste generation, which exacerbate climate change, pollution, and health problems.\n",
       "\n",
       "**Interdisciplinary Field: Sustainable Urban Ecosystems (SUE)**\n",
       "The SUE field would integrate concepts from:\n",
       "\n",
       "1. **Ecology**: To understand the complex interactions between urban ecosystems, including the dynamics of urban forests, water cycles, and biodiversity.\n",
       "2. **Urban Planning**: To design and manage sustainable, resilient, and equitable urban environments, considering factors like transportation, housing, and public spaces.\n",
       "3. **Social Sciences**: To examine the social, economic, and cultural dimensions of urbanization, including issues like inequality, governance, and community engagement.\n",
       "\n",
       "**Key Research Questions:**\n",
       "\n",
       "1. How can urban ecosystems be designed and managed to mitigate climate change, improve air and water quality, and enhance biodiversity?\n",
       "2. What are the social and economic benefits of sustainable urban planning, and how can they be equitably distributed among diverse urban populations?\n",
       "3. How can urban governance and policy frameworks be adapted to support sustainable urban development, and what role can community engagement and participation play in this process?\n",
       "\n",
       "**Integration of Disciplines:**\n",
       "The integration of ecology, urban planning, and social sciences in SUE would enhance our understanding of sustainable urbanization in several ways:\n",
       "\n",
       "1. **Holistic understanding**: By considering the interconnectedness of urban ecosystems, SUE would provide a comprehensive understanding of the complex relationships between environmental, social, and economic factors in urban areas.\n",
       "2. **Systems thinking**: SUE would encourage a systems thinking approach, recognizing that urban ecosystems are complex, dynamic, and interconnected systems that require a multidisciplinary understanding to manage and optimize.\n",
       "3. **Contextualized solutions**: By incorporating social sciences and urban planning perspectives, SUE would develop context-specific solutions that account for the unique cultural, economic, and political contexts of different cities and regions.\n",
       "4. **Co-benefits and trade-offs**: SUE would help identify co-benefits and trade-offs between different sustainability goals, such as balancing economic development with environmental protection and social equity.\n",
       "\n",
       "**Methodologies and Tools:**\n",
       "SUE would employ a range of methodologies and tools, including:\n",
       "\n",
       "1. **Urban ecosystem modeling**: To simulate the dynamics of urban ecosystems and predict the impacts of different management scenarios.\n",
       "2. **Participatory urban planning**: To engage communities in the design and decision-making process, ensuring that urban development is equitable, inclusive, and responsive to local needs.\n",
       "3. **Social network analysis**: To study the relationships between stakeholders, including community groups, government agencies, and private sector organizations, and identify opportunities for collaboration and knowledge sharing.\n",
       "4. **Geographic information systems (GIS)**: To analyze and visualize urban spatial data, including land use patterns, transportation networks, and environmental features.\n",
       "\n",
       "**Impact:**\n",
       "The SUE field would have significant implications for addressing the global issue of sustainable urbanization, including:\n",
       "\n",
       "1. **Improved urban environmental quality**: By developing and implementing sustainable urban design and management strategies, SUE would contribute to reduced greenhouse gas emissions, improved air and water quality, and enhanced biodiversity.\n",
       "2. **Enhanced social equity and justice**: By prioritizing community engagement, participation, and inclusivity, SUE would help ensure that urban development benefits are shared equitably among diverse urban populations.\n",
       "3. **Increased urban resilience**: By integrating ecology, urban planning, and social sciences, SUE would help cities develop resilience to climate change, economic shocks, and other stresses, ensuring that urban ecosystems can adapt and thrive in the face of uncertainty.\n",
       "\n",
       "In conclusion, the Sustainable Urban Ecosystems field would provide a comprehensive, interdisciplinary framework for addressing the complex challenges of sustainable urbanization. By integrating concepts from ecology, urban planning, and social sciences, SUE would enhance our understanding of urban ecosystems and develop effective, context-specific solutions to promote sustainable, resilient, and equitable urban development."
      ],
      "text/plain": [
       "<IPython.core.display.Markdown object>"
      ]
     },
     "metadata": {},
     "output_type": "display_data"
    }
   ],
   "source": [
    "groq = OpenAI(api_key=groq_api_key, base_url=\"https://api.groq.com/openai/v1\")\n",
    "model_name = \"llama-3.3-70b-versatile\"\n",
    "\n",
    "response = groq.chat.completions.create(model=model_name, messages=messages)\n",
    "answer = response.choices[0].message.content\n",
    "\n",
    "display(Markdown(answer))\n",
    "competitors.append(model_name)\n",
    "answers.append(answer)\n"
   ]
  },
  {
   "cell_type": "markdown",
   "metadata": {},
   "source": [
    "## For the next cell, we will use Ollama\n",
    "\n",
    "Ollama runs a local web service that gives an OpenAI compatible endpoint,  \n",
    "and runs models locally using high performance C++ code.\n",
    "\n",
    "If you don't have Ollama, install it here by visiting https://ollama.com then pressing Download and following the instructions.\n",
    "\n",
    "After it's installed, you should be able to visit here: http://localhost:11434 and see the message \"Ollama is running\"\n",
    "\n",
    "You might need to restart Cursor (and maybe reboot). Then open a Terminal (control+\\`) and run `ollama serve`\n",
    "\n",
    "Useful Ollama commands (run these in the terminal, or with an exclamation mark in this notebook):\n",
    "\n",
    "`ollama pull <model_name>` downloads a model locally  \n",
    "`ollama ls` lists all the models you've downloaded  \n",
    "`ollama rm <model_name>` deletes the specified model from your downloads"
   ]
  },
  {
   "cell_type": "markdown",
   "metadata": {},
   "source": [
    "<table style=\"margin: 0; text-align: left; width:100%\">\n",
    "    <tr>\n",
    "        <td style=\"width: 150px; height: 150px; vertical-align: middle;\">\n",
    "            <img src=\"../assets/stop.png\" width=\"150\" height=\"150\" style=\"display: block;\" />\n",
    "        </td>\n",
    "        <td>\n",
    "            <h2 style=\"color:#ff7800;\">Super important - ignore me at your peril!</h2>\n",
    "            <span style=\"color:#ff7800;\">The model called <b>llama3.3</b> is FAR too large for home computers - it's not intended for personal computing and will consume all your resources! Stick with the nicely sized <b>llama3.2</b> or <b>llama3.2:1b</b> and if you want larger, try llama3.1 or smaller variants of Qwen, Gemma, Phi or DeepSeek. See the <A href=\"https://ollama.com/models\">the Ollama models page</a> for a full list of models and sizes.\n",
    "            </span>\n",
    "        </td>\n",
    "    </tr>\n",
    "</table>"
   ]
  },
  {
   "cell_type": "code",
   "execution_count": null,
   "metadata": {},
   "outputs": [],
   "source": [
    "!ollama pull llama3.2"
   ]
  },
  {
   "cell_type": "code",
   "execution_count": null,
   "metadata": {},
   "outputs": [],
   "source": [
    "ollama = OpenAI(base_url='http://localhost:11434/v1', api_key='ollama')\n",
    "model_name = \"llama3.2\"\n",
    "\n",
    "response = ollama.chat.completions.create(model=model_name, messages=messages)\n",
    "answer = response.choices[0].message.content\n",
    "\n",
    "display(Markdown(answer))\n",
    "competitors.append(model_name)\n",
    "answers.append(answer)"
   ]
  },
  {
   "cell_type": "code",
   "execution_count": 17,
   "metadata": {},
   "outputs": [
    {
     "name": "stdout",
     "output_type": "stream",
     "text": [
      "['gpt-4o-mini', 'claude-3-7-sonnet-latest', 'llama-3.3-70b-versatile']\n",
      "['### Proposed Interdisciplinary Field: Eco-Socio-Techno Systems (ESTS)\\n\\n#### Global Issue: Climate Change and Sustainable Development\\n\\n##### Overview:\\nThe field of Eco-Socio-Techno Systems (ESTS) aims to integrate ecological science, social sciences, and technology studies to address the complex problem of climate change and its implications for sustainable development. This interdisciplinary approach combines knowledge from environmental science, sociology, and engineering/technology to create comprehensive solutions that consider ecological balance, social equity, and technological innovation.\\n\\n#### Integration of Disciplines:\\n\\n1. **Ecological Science**: \\n   - Focuses on understanding the impacts of climate change on ecosystems and biodiversity.\\n   - Provides insights into sustainable resource management and conservation strategies.\\n   - Uses models of ecosystem dynamics to predict outcomes of human intervention and natural changes.\\n\\n2. **Social Sciences**:\\n   - Examines the social dimensions of climate change, including public perception, cultural attitudes, and socio-economic disparities.\\n   - Investigates the role of community engagement and social movements in promoting sustainable practices.\\n   - Addresses issues of climate justice, emphasizing the need to support vulnerable populations who are disproportionately affected by climate impacts.\\n\\n3. **Technology Studies**:\\n   - Explores the role of technology in both contributing to and mitigating climate change, including renewable energy, smart grids, and carbon capture technologies.\\n   - Evaluates how technological advancements can be designed for social good and ecological sustainability.\\n   - Investigates the ethical implications of technological solutions, including access to technology and the potential for unintended consequences.\\n\\n#### Benefits of Integration:\\n\\n- **Holistic Understanding**: By merging insights from these three disciplines, ESTS can provide a comprehensive understanding of how ecological systems function, how societies respond to environmental challenges, and how technology can be harnessed effectively.\\n  \\n- **Innovative Solutions**: The interdisciplinary nature of ESTS promotes innovation by fostering collaboration between scientists, social practitioners, and engineers, leading to the development of more effective interventions that are environmentally sound, socially acceptable, and technically feasible.\\n\\n- **Community-Centered Approaches**: Integrating social sciences emphasizes stakeholder engagement, ensuring that solutions consider local knowledge and cultural practices, leading to greater community buy-in and sustainability of interventions.\\n\\n- **Resilience and Adaptation**: By understanding ecological systems, social dynamics, and technological capabilities, ESTS can devise resilience-building strategies that help communities adapt to changing climates while minimizing their carbon footprints.\\n\\n#### Conclusion:\\nThe Eco-Socio-Techno Systems field presents a promising approach to tackling the multi-faceted challenge of climate change and promoting sustainable development. By integrating the knowledge and methodologies from ecology, sociology, and technology, we can develop robust, equitable, and innovative solutions that not only address the immediate challenges posed by climate change but also pave the way for a sustainable future for all. This field encourages collaboration across disciplines, fostering a deeper understanding of the interconnectedness of human and ecological systems, which is crucial for effective climate action.', \"# Regenerative Systems Design: A New Interdisciplinary Field\\n\\nI envision a field called **Regenerative Systems Design** that would integrate:\\n\\n1. **Ecology and Environmental Science**\\n2. **Economics and Policy Design**\\n3. **Digital Technology and Data Science**\\n4. **Anthropology and Cultural Studies**\\n\\nThis field would address the fundamental challenge of our time: how to create human systems that regenerate rather than deplete our ecological, social, and economic resources.\\n\\n## The Global Issue\\n\\nOur current paradigm of extraction and consumption has created cascading crises - climate change, biodiversity loss, resource depletion, and social inequality. These aren't separate problems but symptoms of systems designed without regenerative principles.\\n\\n## How Integration Enhances Solutions\\n\\nRegenerative Systems Design would:\\n\\n**Bridge Knowledge Silos**: Ecologists understand natural cycles but may lack economic implementation tools. Economists create policy but often without ecological understanding. Technologists create powerful tools but may miss cultural contexts. Anthropologists understand cultural systems but may lack implementation mechanisms.\\n\\n**Create New Methodologies**: By combining ecological modeling with economic frameworks and digital technology, we could design data-driven systems that monitor and adapt in real-time while respecting cultural contexts.\\n\\n**Practical Applications**:\\n- Design urban food systems that sequester carbon, build soil, and create circular economies\\n- Develop economic indicators that measure regenerative capacity, not just growth\\n- Create technology platforms that enable collaborative resource management across stakeholder groups\\n- Design policy frameworks that align economic incentives with ecological restoration\\n\\nThis field would train practitioners to think across boundaries, combining the rigor of science with the systems thinking of ecology, the practical tools of economics, the scaling power of technology, and the contextual wisdom of anthropology.\", 'If I could design a new, interdisciplinary field of study, I would propose the field of \"Sustainable Urban Ecosystems\" (SUE), which merges concepts from ecology, urban planning, and social sciences to address the global issue of sustainable urbanization.\\n\\n**Global Issue:**\\nThe world is rapidly urbanizing, with over 60% of the global population projected to live in cities by 2030. This trend poses significant challenges, including environmental degradation, social inequality, and economic instability. Urban areas are major contributors to greenhouse gas emissions, resource consumption, and waste generation, which exacerbate climate change, pollution, and health problems.\\n\\n**Interdisciplinary Field: Sustainable Urban Ecosystems (SUE)**\\nThe SUE field would integrate concepts from:\\n\\n1. **Ecology**: To understand the complex interactions between urban ecosystems, including the dynamics of urban forests, water cycles, and biodiversity.\\n2. **Urban Planning**: To design and manage sustainable, resilient, and equitable urban environments, considering factors like transportation, housing, and public spaces.\\n3. **Social Sciences**: To examine the social, economic, and cultural dimensions of urbanization, including issues like inequality, governance, and community engagement.\\n\\n**Key Research Questions:**\\n\\n1. How can urban ecosystems be designed and managed to mitigate climate change, improve air and water quality, and enhance biodiversity?\\n2. What are the social and economic benefits of sustainable urban planning, and how can they be equitably distributed among diverse urban populations?\\n3. How can urban governance and policy frameworks be adapted to support sustainable urban development, and what role can community engagement and participation play in this process?\\n\\n**Integration of Disciplines:**\\nThe integration of ecology, urban planning, and social sciences in SUE would enhance our understanding of sustainable urbanization in several ways:\\n\\n1. **Holistic understanding**: By considering the interconnectedness of urban ecosystems, SUE would provide a comprehensive understanding of the complex relationships between environmental, social, and economic factors in urban areas.\\n2. **Systems thinking**: SUE would encourage a systems thinking approach, recognizing that urban ecosystems are complex, dynamic, and interconnected systems that require a multidisciplinary understanding to manage and optimize.\\n3. **Contextualized solutions**: By incorporating social sciences and urban planning perspectives, SUE would develop context-specific solutions that account for the unique cultural, economic, and political contexts of different cities and regions.\\n4. **Co-benefits and trade-offs**: SUE would help identify co-benefits and trade-offs between different sustainability goals, such as balancing economic development with environmental protection and social equity.\\n\\n**Methodologies and Tools:**\\nSUE would employ a range of methodologies and tools, including:\\n\\n1. **Urban ecosystem modeling**: To simulate the dynamics of urban ecosystems and predict the impacts of different management scenarios.\\n2. **Participatory urban planning**: To engage communities in the design and decision-making process, ensuring that urban development is equitable, inclusive, and responsive to local needs.\\n3. **Social network analysis**: To study the relationships between stakeholders, including community groups, government agencies, and private sector organizations, and identify opportunities for collaboration and knowledge sharing.\\n4. **Geographic information systems (GIS)**: To analyze and visualize urban spatial data, including land use patterns, transportation networks, and environmental features.\\n\\n**Impact:**\\nThe SUE field would have significant implications for addressing the global issue of sustainable urbanization, including:\\n\\n1. **Improved urban environmental quality**: By developing and implementing sustainable urban design and management strategies, SUE would contribute to reduced greenhouse gas emissions, improved air and water quality, and enhanced biodiversity.\\n2. **Enhanced social equity and justice**: By prioritizing community engagement, participation, and inclusivity, SUE would help ensure that urban development benefits are shared equitably among diverse urban populations.\\n3. **Increased urban resilience**: By integrating ecology, urban planning, and social sciences, SUE would help cities develop resilience to climate change, economic shocks, and other stresses, ensuring that urban ecosystems can adapt and thrive in the face of uncertainty.\\n\\nIn conclusion, the Sustainable Urban Ecosystems field would provide a comprehensive, interdisciplinary framework for addressing the complex challenges of sustainable urbanization. By integrating concepts from ecology, urban planning, and social sciences, SUE would enhance our understanding of urban ecosystems and develop effective, context-specific solutions to promote sustainable, resilient, and equitable urban development.']\n"
     ]
    }
   ],
   "source": [
    "# So where are we?\n",
    "\n",
    "print(competitors)\n",
    "print(answers)\n"
   ]
  },
  {
   "cell_type": "code",
   "execution_count": 18,
   "metadata": {},
   "outputs": [
    {
     "name": "stdout",
     "output_type": "stream",
     "text": [
      "Competitor: gpt-4o-mini\n",
      "\n",
      "### Proposed Interdisciplinary Field: Eco-Socio-Techno Systems (ESTS)\n",
      "\n",
      "#### Global Issue: Climate Change and Sustainable Development\n",
      "\n",
      "##### Overview:\n",
      "The field of Eco-Socio-Techno Systems (ESTS) aims to integrate ecological science, social sciences, and technology studies to address the complex problem of climate change and its implications for sustainable development. This interdisciplinary approach combines knowledge from environmental science, sociology, and engineering/technology to create comprehensive solutions that consider ecological balance, social equity, and technological innovation.\n",
      "\n",
      "#### Integration of Disciplines:\n",
      "\n",
      "1. **Ecological Science**: \n",
      "   - Focuses on understanding the impacts of climate change on ecosystems and biodiversity.\n",
      "   - Provides insights into sustainable resource management and conservation strategies.\n",
      "   - Uses models of ecosystem dynamics to predict outcomes of human intervention and natural changes.\n",
      "\n",
      "2. **Social Sciences**:\n",
      "   - Examines the social dimensions of climate change, including public perception, cultural attitudes, and socio-economic disparities.\n",
      "   - Investigates the role of community engagement and social movements in promoting sustainable practices.\n",
      "   - Addresses issues of climate justice, emphasizing the need to support vulnerable populations who are disproportionately affected by climate impacts.\n",
      "\n",
      "3. **Technology Studies**:\n",
      "   - Explores the role of technology in both contributing to and mitigating climate change, including renewable energy, smart grids, and carbon capture technologies.\n",
      "   - Evaluates how technological advancements can be designed for social good and ecological sustainability.\n",
      "   - Investigates the ethical implications of technological solutions, including access to technology and the potential for unintended consequences.\n",
      "\n",
      "#### Benefits of Integration:\n",
      "\n",
      "- **Holistic Understanding**: By merging insights from these three disciplines, ESTS can provide a comprehensive understanding of how ecological systems function, how societies respond to environmental challenges, and how technology can be harnessed effectively.\n",
      "  \n",
      "- **Innovative Solutions**: The interdisciplinary nature of ESTS promotes innovation by fostering collaboration between scientists, social practitioners, and engineers, leading to the development of more effective interventions that are environmentally sound, socially acceptable, and technically feasible.\n",
      "\n",
      "- **Community-Centered Approaches**: Integrating social sciences emphasizes stakeholder engagement, ensuring that solutions consider local knowledge and cultural practices, leading to greater community buy-in and sustainability of interventions.\n",
      "\n",
      "- **Resilience and Adaptation**: By understanding ecological systems, social dynamics, and technological capabilities, ESTS can devise resilience-building strategies that help communities adapt to changing climates while minimizing their carbon footprints.\n",
      "\n",
      "#### Conclusion:\n",
      "The Eco-Socio-Techno Systems field presents a promising approach to tackling the multi-faceted challenge of climate change and promoting sustainable development. By integrating the knowledge and methodologies from ecology, sociology, and technology, we can develop robust, equitable, and innovative solutions that not only address the immediate challenges posed by climate change but also pave the way for a sustainable future for all. This field encourages collaboration across disciplines, fostering a deeper understanding of the interconnectedness of human and ecological systems, which is crucial for effective climate action.\n",
      "Competitor: claude-3-7-sonnet-latest\n",
      "\n",
      "# Regenerative Systems Design: A New Interdisciplinary Field\n",
      "\n",
      "I envision a field called **Regenerative Systems Design** that would integrate:\n",
      "\n",
      "1. **Ecology and Environmental Science**\n",
      "2. **Economics and Policy Design**\n",
      "3. **Digital Technology and Data Science**\n",
      "4. **Anthropology and Cultural Studies**\n",
      "\n",
      "This field would address the fundamental challenge of our time: how to create human systems that regenerate rather than deplete our ecological, social, and economic resources.\n",
      "\n",
      "## The Global Issue\n",
      "\n",
      "Our current paradigm of extraction and consumption has created cascading crises - climate change, biodiversity loss, resource depletion, and social inequality. These aren't separate problems but symptoms of systems designed without regenerative principles.\n",
      "\n",
      "## How Integration Enhances Solutions\n",
      "\n",
      "Regenerative Systems Design would:\n",
      "\n",
      "**Bridge Knowledge Silos**: Ecologists understand natural cycles but may lack economic implementation tools. Economists create policy but often without ecological understanding. Technologists create powerful tools but may miss cultural contexts. Anthropologists understand cultural systems but may lack implementation mechanisms.\n",
      "\n",
      "**Create New Methodologies**: By combining ecological modeling with economic frameworks and digital technology, we could design data-driven systems that monitor and adapt in real-time while respecting cultural contexts.\n",
      "\n",
      "**Practical Applications**:\n",
      "- Design urban food systems that sequester carbon, build soil, and create circular economies\n",
      "- Develop economic indicators that measure regenerative capacity, not just growth\n",
      "- Create technology platforms that enable collaborative resource management across stakeholder groups\n",
      "- Design policy frameworks that align economic incentives with ecological restoration\n",
      "\n",
      "This field would train practitioners to think across boundaries, combining the rigor of science with the systems thinking of ecology, the practical tools of economics, the scaling power of technology, and the contextual wisdom of anthropology.\n",
      "Competitor: llama-3.3-70b-versatile\n",
      "\n",
      "If I could design a new, interdisciplinary field of study, I would propose the field of \"Sustainable Urban Ecosystems\" (SUE), which merges concepts from ecology, urban planning, and social sciences to address the global issue of sustainable urbanization.\n",
      "\n",
      "**Global Issue:**\n",
      "The world is rapidly urbanizing, with over 60% of the global population projected to live in cities by 2030. This trend poses significant challenges, including environmental degradation, social inequality, and economic instability. Urban areas are major contributors to greenhouse gas emissions, resource consumption, and waste generation, which exacerbate climate change, pollution, and health problems.\n",
      "\n",
      "**Interdisciplinary Field: Sustainable Urban Ecosystems (SUE)**\n",
      "The SUE field would integrate concepts from:\n",
      "\n",
      "1. **Ecology**: To understand the complex interactions between urban ecosystems, including the dynamics of urban forests, water cycles, and biodiversity.\n",
      "2. **Urban Planning**: To design and manage sustainable, resilient, and equitable urban environments, considering factors like transportation, housing, and public spaces.\n",
      "3. **Social Sciences**: To examine the social, economic, and cultural dimensions of urbanization, including issues like inequality, governance, and community engagement.\n",
      "\n",
      "**Key Research Questions:**\n",
      "\n",
      "1. How can urban ecosystems be designed and managed to mitigate climate change, improve air and water quality, and enhance biodiversity?\n",
      "2. What are the social and economic benefits of sustainable urban planning, and how can they be equitably distributed among diverse urban populations?\n",
      "3. How can urban governance and policy frameworks be adapted to support sustainable urban development, and what role can community engagement and participation play in this process?\n",
      "\n",
      "**Integration of Disciplines:**\n",
      "The integration of ecology, urban planning, and social sciences in SUE would enhance our understanding of sustainable urbanization in several ways:\n",
      "\n",
      "1. **Holistic understanding**: By considering the interconnectedness of urban ecosystems, SUE would provide a comprehensive understanding of the complex relationships between environmental, social, and economic factors in urban areas.\n",
      "2. **Systems thinking**: SUE would encourage a systems thinking approach, recognizing that urban ecosystems are complex, dynamic, and interconnected systems that require a multidisciplinary understanding to manage and optimize.\n",
      "3. **Contextualized solutions**: By incorporating social sciences and urban planning perspectives, SUE would develop context-specific solutions that account for the unique cultural, economic, and political contexts of different cities and regions.\n",
      "4. **Co-benefits and trade-offs**: SUE would help identify co-benefits and trade-offs between different sustainability goals, such as balancing economic development with environmental protection and social equity.\n",
      "\n",
      "**Methodologies and Tools:**\n",
      "SUE would employ a range of methodologies and tools, including:\n",
      "\n",
      "1. **Urban ecosystem modeling**: To simulate the dynamics of urban ecosystems and predict the impacts of different management scenarios.\n",
      "2. **Participatory urban planning**: To engage communities in the design and decision-making process, ensuring that urban development is equitable, inclusive, and responsive to local needs.\n",
      "3. **Social network analysis**: To study the relationships between stakeholders, including community groups, government agencies, and private sector organizations, and identify opportunities for collaboration and knowledge sharing.\n",
      "4. **Geographic information systems (GIS)**: To analyze and visualize urban spatial data, including land use patterns, transportation networks, and environmental features.\n",
      "\n",
      "**Impact:**\n",
      "The SUE field would have significant implications for addressing the global issue of sustainable urbanization, including:\n",
      "\n",
      "1. **Improved urban environmental quality**: By developing and implementing sustainable urban design and management strategies, SUE would contribute to reduced greenhouse gas emissions, improved air and water quality, and enhanced biodiversity.\n",
      "2. **Enhanced social equity and justice**: By prioritizing community engagement, participation, and inclusivity, SUE would help ensure that urban development benefits are shared equitably among diverse urban populations.\n",
      "3. **Increased urban resilience**: By integrating ecology, urban planning, and social sciences, SUE would help cities develop resilience to climate change, economic shocks, and other stresses, ensuring that urban ecosystems can adapt and thrive in the face of uncertainty.\n",
      "\n",
      "In conclusion, the Sustainable Urban Ecosystems field would provide a comprehensive, interdisciplinary framework for addressing the complex challenges of sustainable urbanization. By integrating concepts from ecology, urban planning, and social sciences, SUE would enhance our understanding of urban ecosystems and develop effective, context-specific solutions to promote sustainable, resilient, and equitable urban development.\n"
     ]
    }
   ],
   "source": [
    "# It's nice to know how to use \"zip\"\n",
    "for competitor, answer in zip(competitors, answers):\n",
    "    print(f\"Competitor: {competitor}\\n\\n{answer}\")\n"
   ]
  },
  {
   "cell_type": "code",
   "execution_count": 19,
   "metadata": {},
   "outputs": [],
   "source": [
    "# Let's bring this together - note the use of \"enumerate\"\n",
    "\n",
    "together = \"\"\n",
    "for index, answer in enumerate(answers):\n",
    "    together += f\"# Response from competitor {index+1}\\n\\n\"\n",
    "    together += answer + \"\\n\\n\""
   ]
  },
  {
   "cell_type": "code",
   "execution_count": 20,
   "metadata": {},
   "outputs": [
    {
     "name": "stdout",
     "output_type": "stream",
     "text": [
      "# Response from competitor 1\n",
      "\n",
      "### Proposed Interdisciplinary Field: Eco-Socio-Techno Systems (ESTS)\n",
      "\n",
      "#### Global Issue: Climate Change and Sustainable Development\n",
      "\n",
      "##### Overview:\n",
      "The field of Eco-Socio-Techno Systems (ESTS) aims to integrate ecological science, social sciences, and technology studies to address the complex problem of climate change and its implications for sustainable development. This interdisciplinary approach combines knowledge from environmental science, sociology, and engineering/technology to create comprehensive solutions that consider ecological balance, social equity, and technological innovation.\n",
      "\n",
      "#### Integration of Disciplines:\n",
      "\n",
      "1. **Ecological Science**: \n",
      "   - Focuses on understanding the impacts of climate change on ecosystems and biodiversity.\n",
      "   - Provides insights into sustainable resource management and conservation strategies.\n",
      "   - Uses models of ecosystem dynamics to predict outcomes of human intervention and natural changes.\n",
      "\n",
      "2. **Social Sciences**:\n",
      "   - Examines the social dimensions of climate change, including public perception, cultural attitudes, and socio-economic disparities.\n",
      "   - Investigates the role of community engagement and social movements in promoting sustainable practices.\n",
      "   - Addresses issues of climate justice, emphasizing the need to support vulnerable populations who are disproportionately affected by climate impacts.\n",
      "\n",
      "3. **Technology Studies**:\n",
      "   - Explores the role of technology in both contributing to and mitigating climate change, including renewable energy, smart grids, and carbon capture technologies.\n",
      "   - Evaluates how technological advancements can be designed for social good and ecological sustainability.\n",
      "   - Investigates the ethical implications of technological solutions, including access to technology and the potential for unintended consequences.\n",
      "\n",
      "#### Benefits of Integration:\n",
      "\n",
      "- **Holistic Understanding**: By merging insights from these three disciplines, ESTS can provide a comprehensive understanding of how ecological systems function, how societies respond to environmental challenges, and how technology can be harnessed effectively.\n",
      "  \n",
      "- **Innovative Solutions**: The interdisciplinary nature of ESTS promotes innovation by fostering collaboration between scientists, social practitioners, and engineers, leading to the development of more effective interventions that are environmentally sound, socially acceptable, and technically feasible.\n",
      "\n",
      "- **Community-Centered Approaches**: Integrating social sciences emphasizes stakeholder engagement, ensuring that solutions consider local knowledge and cultural practices, leading to greater community buy-in and sustainability of interventions.\n",
      "\n",
      "- **Resilience and Adaptation**: By understanding ecological systems, social dynamics, and technological capabilities, ESTS can devise resilience-building strategies that help communities adapt to changing climates while minimizing their carbon footprints.\n",
      "\n",
      "#### Conclusion:\n",
      "The Eco-Socio-Techno Systems field presents a promising approach to tackling the multi-faceted challenge of climate change and promoting sustainable development. By integrating the knowledge and methodologies from ecology, sociology, and technology, we can develop robust, equitable, and innovative solutions that not only address the immediate challenges posed by climate change but also pave the way for a sustainable future for all. This field encourages collaboration across disciplines, fostering a deeper understanding of the interconnectedness of human and ecological systems, which is crucial for effective climate action.\n",
      "\n",
      "# Response from competitor 2\n",
      "\n",
      "# Regenerative Systems Design: A New Interdisciplinary Field\n",
      "\n",
      "I envision a field called **Regenerative Systems Design** that would integrate:\n",
      "\n",
      "1. **Ecology and Environmental Science**\n",
      "2. **Economics and Policy Design**\n",
      "3. **Digital Technology and Data Science**\n",
      "4. **Anthropology and Cultural Studies**\n",
      "\n",
      "This field would address the fundamental challenge of our time: how to create human systems that regenerate rather than deplete our ecological, social, and economic resources.\n",
      "\n",
      "## The Global Issue\n",
      "\n",
      "Our current paradigm of extraction and consumption has created cascading crises - climate change, biodiversity loss, resource depletion, and social inequality. These aren't separate problems but symptoms of systems designed without regenerative principles.\n",
      "\n",
      "## How Integration Enhances Solutions\n",
      "\n",
      "Regenerative Systems Design would:\n",
      "\n",
      "**Bridge Knowledge Silos**: Ecologists understand natural cycles but may lack economic implementation tools. Economists create policy but often without ecological understanding. Technologists create powerful tools but may miss cultural contexts. Anthropologists understand cultural systems but may lack implementation mechanisms.\n",
      "\n",
      "**Create New Methodologies**: By combining ecological modeling with economic frameworks and digital technology, we could design data-driven systems that monitor and adapt in real-time while respecting cultural contexts.\n",
      "\n",
      "**Practical Applications**:\n",
      "- Design urban food systems that sequester carbon, build soil, and create circular economies\n",
      "- Develop economic indicators that measure regenerative capacity, not just growth\n",
      "- Create technology platforms that enable collaborative resource management across stakeholder groups\n",
      "- Design policy frameworks that align economic incentives with ecological restoration\n",
      "\n",
      "This field would train practitioners to think across boundaries, combining the rigor of science with the systems thinking of ecology, the practical tools of economics, the scaling power of technology, and the contextual wisdom of anthropology.\n",
      "\n",
      "# Response from competitor 3\n",
      "\n",
      "If I could design a new, interdisciplinary field of study, I would propose the field of \"Sustainable Urban Ecosystems\" (SUE), which merges concepts from ecology, urban planning, and social sciences to address the global issue of sustainable urbanization.\n",
      "\n",
      "**Global Issue:**\n",
      "The world is rapidly urbanizing, with over 60% of the global population projected to live in cities by 2030. This trend poses significant challenges, including environmental degradation, social inequality, and economic instability. Urban areas are major contributors to greenhouse gas emissions, resource consumption, and waste generation, which exacerbate climate change, pollution, and health problems.\n",
      "\n",
      "**Interdisciplinary Field: Sustainable Urban Ecosystems (SUE)**\n",
      "The SUE field would integrate concepts from:\n",
      "\n",
      "1. **Ecology**: To understand the complex interactions between urban ecosystems, including the dynamics of urban forests, water cycles, and biodiversity.\n",
      "2. **Urban Planning**: To design and manage sustainable, resilient, and equitable urban environments, considering factors like transportation, housing, and public spaces.\n",
      "3. **Social Sciences**: To examine the social, economic, and cultural dimensions of urbanization, including issues like inequality, governance, and community engagement.\n",
      "\n",
      "**Key Research Questions:**\n",
      "\n",
      "1. How can urban ecosystems be designed and managed to mitigate climate change, improve air and water quality, and enhance biodiversity?\n",
      "2. What are the social and economic benefits of sustainable urban planning, and how can they be equitably distributed among diverse urban populations?\n",
      "3. How can urban governance and policy frameworks be adapted to support sustainable urban development, and what role can community engagement and participation play in this process?\n",
      "\n",
      "**Integration of Disciplines:**\n",
      "The integration of ecology, urban planning, and social sciences in SUE would enhance our understanding of sustainable urbanization in several ways:\n",
      "\n",
      "1. **Holistic understanding**: By considering the interconnectedness of urban ecosystems, SUE would provide a comprehensive understanding of the complex relationships between environmental, social, and economic factors in urban areas.\n",
      "2. **Systems thinking**: SUE would encourage a systems thinking approach, recognizing that urban ecosystems are complex, dynamic, and interconnected systems that require a multidisciplinary understanding to manage and optimize.\n",
      "3. **Contextualized solutions**: By incorporating social sciences and urban planning perspectives, SUE would develop context-specific solutions that account for the unique cultural, economic, and political contexts of different cities and regions.\n",
      "4. **Co-benefits and trade-offs**: SUE would help identify co-benefits and trade-offs between different sustainability goals, such as balancing economic development with environmental protection and social equity.\n",
      "\n",
      "**Methodologies and Tools:**\n",
      "SUE would employ a range of methodologies and tools, including:\n",
      "\n",
      "1. **Urban ecosystem modeling**: To simulate the dynamics of urban ecosystems and predict the impacts of different management scenarios.\n",
      "2. **Participatory urban planning**: To engage communities in the design and decision-making process, ensuring that urban development is equitable, inclusive, and responsive to local needs.\n",
      "3. **Social network analysis**: To study the relationships between stakeholders, including community groups, government agencies, and private sector organizations, and identify opportunities for collaboration and knowledge sharing.\n",
      "4. **Geographic information systems (GIS)**: To analyze and visualize urban spatial data, including land use patterns, transportation networks, and environmental features.\n",
      "\n",
      "**Impact:**\n",
      "The SUE field would have significant implications for addressing the global issue of sustainable urbanization, including:\n",
      "\n",
      "1. **Improved urban environmental quality**: By developing and implementing sustainable urban design and management strategies, SUE would contribute to reduced greenhouse gas emissions, improved air and water quality, and enhanced biodiversity.\n",
      "2. **Enhanced social equity and justice**: By prioritizing community engagement, participation, and inclusivity, SUE would help ensure that urban development benefits are shared equitably among diverse urban populations.\n",
      "3. **Increased urban resilience**: By integrating ecology, urban planning, and social sciences, SUE would help cities develop resilience to climate change, economic shocks, and other stresses, ensuring that urban ecosystems can adapt and thrive in the face of uncertainty.\n",
      "\n",
      "In conclusion, the Sustainable Urban Ecosystems field would provide a comprehensive, interdisciplinary framework for addressing the complex challenges of sustainable urbanization. By integrating concepts from ecology, urban planning, and social sciences, SUE would enhance our understanding of urban ecosystems and develop effective, context-specific solutions to promote sustainable, resilient, and equitable urban development.\n",
      "\n",
      "\n"
     ]
    }
   ],
   "source": [
    "print(together)"
   ]
  },
  {
   "cell_type": "code",
   "execution_count": 21,
   "metadata": {},
   "outputs": [],
   "source": [
    "judge = f\"\"\"You are judging a competition between {len(competitors)} competitors.\n",
    "Each model has been given this question:\n",
    "\n",
    "{question}\n",
    "\n",
    "Your job is to evaluate each response for clarity and strength of argument, and rank them in order of best to worst.\n",
    "Respond with JSON, and only JSON, with the following format:\n",
    "{{\"results\": [\"best competitor number\", \"second best competitor number\", \"third best competitor number\", ...]}}\n",
    "\n",
    "Here are the responses from each competitor:\n",
    "\n",
    "{together}\n",
    "\n",
    "Now respond with the JSON with the ranked order of the competitors, nothing else. Do not include markdown formatting or code blocks.\"\"\"\n"
   ]
  },
  {
   "cell_type": "code",
   "execution_count": 22,
   "metadata": {},
   "outputs": [
    {
     "name": "stdout",
     "output_type": "stream",
     "text": [
      "You are judging a competition between 3 competitors.\n",
      "Each model has been given this question:\n",
      "\n",
      "If you could design a new, interdisciplinary field of study that merges concepts from at least three existing disciplines to address a global issue, what would that field be, what specific issue would it tackle, and how would the integration of these disciplines enhance our understanding or solution to the problem?\n",
      "\n",
      "Your job is to evaluate each response for clarity and strength of argument, and rank them in order of best to worst.\n",
      "Respond with JSON, and only JSON, with the following format:\n",
      "{\"results\": [\"best competitor number\", \"second best competitor number\", \"third best competitor number\", ...]}\n",
      "\n",
      "Here are the responses from each competitor:\n",
      "\n",
      "# Response from competitor 1\n",
      "\n",
      "### Proposed Interdisciplinary Field: Eco-Socio-Techno Systems (ESTS)\n",
      "\n",
      "#### Global Issue: Climate Change and Sustainable Development\n",
      "\n",
      "##### Overview:\n",
      "The field of Eco-Socio-Techno Systems (ESTS) aims to integrate ecological science, social sciences, and technology studies to address the complex problem of climate change and its implications for sustainable development. This interdisciplinary approach combines knowledge from environmental science, sociology, and engineering/technology to create comprehensive solutions that consider ecological balance, social equity, and technological innovation.\n",
      "\n",
      "#### Integration of Disciplines:\n",
      "\n",
      "1. **Ecological Science**: \n",
      "   - Focuses on understanding the impacts of climate change on ecosystems and biodiversity.\n",
      "   - Provides insights into sustainable resource management and conservation strategies.\n",
      "   - Uses models of ecosystem dynamics to predict outcomes of human intervention and natural changes.\n",
      "\n",
      "2. **Social Sciences**:\n",
      "   - Examines the social dimensions of climate change, including public perception, cultural attitudes, and socio-economic disparities.\n",
      "   - Investigates the role of community engagement and social movements in promoting sustainable practices.\n",
      "   - Addresses issues of climate justice, emphasizing the need to support vulnerable populations who are disproportionately affected by climate impacts.\n",
      "\n",
      "3. **Technology Studies**:\n",
      "   - Explores the role of technology in both contributing to and mitigating climate change, including renewable energy, smart grids, and carbon capture technologies.\n",
      "   - Evaluates how technological advancements can be designed for social good and ecological sustainability.\n",
      "   - Investigates the ethical implications of technological solutions, including access to technology and the potential for unintended consequences.\n",
      "\n",
      "#### Benefits of Integration:\n",
      "\n",
      "- **Holistic Understanding**: By merging insights from these three disciplines, ESTS can provide a comprehensive understanding of how ecological systems function, how societies respond to environmental challenges, and how technology can be harnessed effectively.\n",
      "  \n",
      "- **Innovative Solutions**: The interdisciplinary nature of ESTS promotes innovation by fostering collaboration between scientists, social practitioners, and engineers, leading to the development of more effective interventions that are environmentally sound, socially acceptable, and technically feasible.\n",
      "\n",
      "- **Community-Centered Approaches**: Integrating social sciences emphasizes stakeholder engagement, ensuring that solutions consider local knowledge and cultural practices, leading to greater community buy-in and sustainability of interventions.\n",
      "\n",
      "- **Resilience and Adaptation**: By understanding ecological systems, social dynamics, and technological capabilities, ESTS can devise resilience-building strategies that help communities adapt to changing climates while minimizing their carbon footprints.\n",
      "\n",
      "#### Conclusion:\n",
      "The Eco-Socio-Techno Systems field presents a promising approach to tackling the multi-faceted challenge of climate change and promoting sustainable development. By integrating the knowledge and methodologies from ecology, sociology, and technology, we can develop robust, equitable, and innovative solutions that not only address the immediate challenges posed by climate change but also pave the way for a sustainable future for all. This field encourages collaboration across disciplines, fostering a deeper understanding of the interconnectedness of human and ecological systems, which is crucial for effective climate action.\n",
      "\n",
      "# Response from competitor 2\n",
      "\n",
      "# Regenerative Systems Design: A New Interdisciplinary Field\n",
      "\n",
      "I envision a field called **Regenerative Systems Design** that would integrate:\n",
      "\n",
      "1. **Ecology and Environmental Science**\n",
      "2. **Economics and Policy Design**\n",
      "3. **Digital Technology and Data Science**\n",
      "4. **Anthropology and Cultural Studies**\n",
      "\n",
      "This field would address the fundamental challenge of our time: how to create human systems that regenerate rather than deplete our ecological, social, and economic resources.\n",
      "\n",
      "## The Global Issue\n",
      "\n",
      "Our current paradigm of extraction and consumption has created cascading crises - climate change, biodiversity loss, resource depletion, and social inequality. These aren't separate problems but symptoms of systems designed without regenerative principles.\n",
      "\n",
      "## How Integration Enhances Solutions\n",
      "\n",
      "Regenerative Systems Design would:\n",
      "\n",
      "**Bridge Knowledge Silos**: Ecologists understand natural cycles but may lack economic implementation tools. Economists create policy but often without ecological understanding. Technologists create powerful tools but may miss cultural contexts. Anthropologists understand cultural systems but may lack implementation mechanisms.\n",
      "\n",
      "**Create New Methodologies**: By combining ecological modeling with economic frameworks and digital technology, we could design data-driven systems that monitor and adapt in real-time while respecting cultural contexts.\n",
      "\n",
      "**Practical Applications**:\n",
      "- Design urban food systems that sequester carbon, build soil, and create circular economies\n",
      "- Develop economic indicators that measure regenerative capacity, not just growth\n",
      "- Create technology platforms that enable collaborative resource management across stakeholder groups\n",
      "- Design policy frameworks that align economic incentives with ecological restoration\n",
      "\n",
      "This field would train practitioners to think across boundaries, combining the rigor of science with the systems thinking of ecology, the practical tools of economics, the scaling power of technology, and the contextual wisdom of anthropology.\n",
      "\n",
      "# Response from competitor 3\n",
      "\n",
      "If I could design a new, interdisciplinary field of study, I would propose the field of \"Sustainable Urban Ecosystems\" (SUE), which merges concepts from ecology, urban planning, and social sciences to address the global issue of sustainable urbanization.\n",
      "\n",
      "**Global Issue:**\n",
      "The world is rapidly urbanizing, with over 60% of the global population projected to live in cities by 2030. This trend poses significant challenges, including environmental degradation, social inequality, and economic instability. Urban areas are major contributors to greenhouse gas emissions, resource consumption, and waste generation, which exacerbate climate change, pollution, and health problems.\n",
      "\n",
      "**Interdisciplinary Field: Sustainable Urban Ecosystems (SUE)**\n",
      "The SUE field would integrate concepts from:\n",
      "\n",
      "1. **Ecology**: To understand the complex interactions between urban ecosystems, including the dynamics of urban forests, water cycles, and biodiversity.\n",
      "2. **Urban Planning**: To design and manage sustainable, resilient, and equitable urban environments, considering factors like transportation, housing, and public spaces.\n",
      "3. **Social Sciences**: To examine the social, economic, and cultural dimensions of urbanization, including issues like inequality, governance, and community engagement.\n",
      "\n",
      "**Key Research Questions:**\n",
      "\n",
      "1. How can urban ecosystems be designed and managed to mitigate climate change, improve air and water quality, and enhance biodiversity?\n",
      "2. What are the social and economic benefits of sustainable urban planning, and how can they be equitably distributed among diverse urban populations?\n",
      "3. How can urban governance and policy frameworks be adapted to support sustainable urban development, and what role can community engagement and participation play in this process?\n",
      "\n",
      "**Integration of Disciplines:**\n",
      "The integration of ecology, urban planning, and social sciences in SUE would enhance our understanding of sustainable urbanization in several ways:\n",
      "\n",
      "1. **Holistic understanding**: By considering the interconnectedness of urban ecosystems, SUE would provide a comprehensive understanding of the complex relationships between environmental, social, and economic factors in urban areas.\n",
      "2. **Systems thinking**: SUE would encourage a systems thinking approach, recognizing that urban ecosystems are complex, dynamic, and interconnected systems that require a multidisciplinary understanding to manage and optimize.\n",
      "3. **Contextualized solutions**: By incorporating social sciences and urban planning perspectives, SUE would develop context-specific solutions that account for the unique cultural, economic, and political contexts of different cities and regions.\n",
      "4. **Co-benefits and trade-offs**: SUE would help identify co-benefits and trade-offs between different sustainability goals, such as balancing economic development with environmental protection and social equity.\n",
      "\n",
      "**Methodologies and Tools:**\n",
      "SUE would employ a range of methodologies and tools, including:\n",
      "\n",
      "1. **Urban ecosystem modeling**: To simulate the dynamics of urban ecosystems and predict the impacts of different management scenarios.\n",
      "2. **Participatory urban planning**: To engage communities in the design and decision-making process, ensuring that urban development is equitable, inclusive, and responsive to local needs.\n",
      "3. **Social network analysis**: To study the relationships between stakeholders, including community groups, government agencies, and private sector organizations, and identify opportunities for collaboration and knowledge sharing.\n",
      "4. **Geographic information systems (GIS)**: To analyze and visualize urban spatial data, including land use patterns, transportation networks, and environmental features.\n",
      "\n",
      "**Impact:**\n",
      "The SUE field would have significant implications for addressing the global issue of sustainable urbanization, including:\n",
      "\n",
      "1. **Improved urban environmental quality**: By developing and implementing sustainable urban design and management strategies, SUE would contribute to reduced greenhouse gas emissions, improved air and water quality, and enhanced biodiversity.\n",
      "2. **Enhanced social equity and justice**: By prioritizing community engagement, participation, and inclusivity, SUE would help ensure that urban development benefits are shared equitably among diverse urban populations.\n",
      "3. **Increased urban resilience**: By integrating ecology, urban planning, and social sciences, SUE would help cities develop resilience to climate change, economic shocks, and other stresses, ensuring that urban ecosystems can adapt and thrive in the face of uncertainty.\n",
      "\n",
      "In conclusion, the Sustainable Urban Ecosystems field would provide a comprehensive, interdisciplinary framework for addressing the complex challenges of sustainable urbanization. By integrating concepts from ecology, urban planning, and social sciences, SUE would enhance our understanding of urban ecosystems and develop effective, context-specific solutions to promote sustainable, resilient, and equitable urban development.\n",
      "\n",
      "\n",
      "\n",
      "Now respond with the JSON with the ranked order of the competitors, nothing else. Do not include markdown formatting or code blocks.\n"
     ]
    }
   ],
   "source": [
    "print(judge)"
   ]
  },
  {
   "cell_type": "code",
   "execution_count": 23,
   "metadata": {},
   "outputs": [],
   "source": [
    "judge_messages = [{\"role\": \"user\", \"content\": judge}]"
   ]
  },
  {
   "cell_type": "code",
   "execution_count": 24,
   "metadata": {},
   "outputs": [
    {
     "name": "stdout",
     "output_type": "stream",
     "text": [
      "{\"results\": [\"2\", \"1\", \"3\"]}\n"
     ]
    }
   ],
   "source": [
    "# Judgement time!\n",
    "\n",
    "openai = OpenAI()\n",
    "response = openai.chat.completions.create(\n",
    "    model=\"o3-mini\",\n",
    "    messages=judge_messages,\n",
    ")\n",
    "results = response.choices[0].message.content\n",
    "print(results)\n"
   ]
  },
  {
   "cell_type": "code",
   "execution_count": 25,
   "metadata": {},
   "outputs": [
    {
     "name": "stdout",
     "output_type": "stream",
     "text": [
      "Rank 1: claude-3-7-sonnet-latest\n",
      "Rank 2: gpt-4o-mini\n",
      "Rank 3: llama-3.3-70b-versatile\n"
     ]
    }
   ],
   "source": [
    "# OK let's turn this into results!\n",
    "\n",
    "results_dict = json.loads(results)\n",
    "ranks = results_dict[\"results\"]\n",
    "for index, result in enumerate(ranks):\n",
    "    competitor = competitors[int(result)-1]\n",
    "    print(f\"Rank {index+1}: {competitor}\")"
   ]
  },
  {
   "cell_type": "markdown",
   "metadata": {},
   "source": [
    "<table style=\"margin: 0; text-align: left; width:100%\">\n",
    "    <tr>\n",
    "        <td style=\"width: 150px; height: 150px; vertical-align: middle;\">\n",
    "            <img src=\"../assets/exercise.png\" width=\"150\" height=\"150\" style=\"display: block;\" />\n",
    "        </td>\n",
    "        <td>\n",
    "            <h2 style=\"color:#ff7800;\">Exercise</h2>\n",
    "            <span style=\"color:#ff7800;\">Which pattern(s) did this use? Try updating this to add another Agentic design pattern.\n",
    "            </span>\n",
    "        </td>\n",
    "    </tr>\n",
    "</table>"
   ]
  },
  {
   "cell_type": "markdown",
   "metadata": {},
   "source": [
    "<table style=\"margin: 0; text-align: left; width:100%\">\n",
    "    <tr>\n",
    "        <td style=\"width: 150px; height: 150px; vertical-align: middle;\">\n",
    "            <img src=\"../assets/business.png\" width=\"150\" height=\"150\" style=\"display: block;\" />\n",
    "        </td>\n",
    "        <td>\n",
    "            <h2 style=\"color:#00bfff;\">Commercial implications</h2>\n",
    "            <span style=\"color:#00bfff;\">These kinds of patterns - to send a task to multiple models, and evaluate results,\n",
    "            are common where you need to improve the quality of your LLM response. This approach can be universally applied\n",
    "            to business projects where accuracy is critical.\n",
    "            </span>\n",
    "        </td>\n",
    "    </tr>\n",
    "</table>"
   ]
  }
 ],
 "metadata": {
  "kernelspec": {
   "display_name": "agents",
   "language": "python",
   "name": "python3"
  },
  "language_info": {
   "codemirror_mode": {
    "name": "ipython",
    "version": 3
   },
   "file_extension": ".py",
   "mimetype": "text/x-python",
   "name": "python",
   "nbconvert_exporter": "python",
   "pygments_lexer": "ipython3",
   "version": "3.12.11"
  }
 },
 "nbformat": 4,
 "nbformat_minor": 2
}

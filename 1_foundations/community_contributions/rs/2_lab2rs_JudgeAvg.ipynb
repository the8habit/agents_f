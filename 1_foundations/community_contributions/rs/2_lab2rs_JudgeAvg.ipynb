{
 "cells": [
  {
   "cell_type": "markdown",
   "metadata": {},
   "source": [
    "## Welcome to the Second Lab - Week 1, Day 3\n",
    "\n",
    "Today we will work with lots of models! This is a way to get comfortable with APIs."
   ]
  },
  {
   "cell_type": "markdown",
   "metadata": {},
   "source": [
    "<table style=\"margin: 0; text-align: left; width:100%\">\n",
    "    <tr>\n",
    "        <td style=\"width: 150px; height: 150px; vertical-align: middle;\">\n",
    "            <img src=\"../assets/stop.png\" width=\"150\" height=\"150\" style=\"display: block;\" />\n",
    "        </td>\n",
    "        <td>\n",
    "            <h2 style=\"color:#ff7800;\">Important point - please read</h2>\n",
    "            <span style=\"color:#ff7800;\">The way I collaborate with you may be different to other courses you've taken. I prefer not to type code while you watch. Rather, I execute Jupyter Labs, like this, and give you an intuition for what's going on. My suggestion is that you carefully execute this yourself, <b>after</b> watching the lecture. Add print statements to understand what's going on, and then come up with your own variations.<br/><br/>If you have time, I'd love it if you submit a PR for changes in the community_contributions folder - instructions in the resources. Also, if you have a Github account, use this to showcase your variations. Not only is this essential practice, but it demonstrates your skills to others, including perhaps future clients or employers...\n",
    "            </span>\n",
    "        </td>\n",
    "    </tr>\n",
    "</table>"
   ]
  },
  {
   "cell_type": "code",
   "execution_count": 64,
   "metadata": {},
   "outputs": [],
   "source": [
    "# Start with imports - ask ChatGPT to explain any package that you don't know\n",
    "\n",
    "import os\n",
    "import json\n",
    "from dotenv import load_dotenv\n",
    "from openai import OpenAI\n",
    "from anthropic import Anthropic\n",
    "from IPython.display import Markdown, display\n",
    "import numpy as np"
   ]
  },
  {
   "cell_type": "code",
   "execution_count": 65,
   "metadata": {},
   "outputs": [
    {
     "data": {
      "text/plain": [
       "True"
      ]
     },
     "execution_count": 65,
     "metadata": {},
     "output_type": "execute_result"
    }
   ],
   "source": [
    "# Always remember to do this!\n",
    "load_dotenv(override=True)"
   ]
  },
  {
   "cell_type": "code",
   "execution_count": 66,
   "metadata": {},
   "outputs": [
    {
     "name": "stdout",
     "output_type": "stream",
     "text": [
      "OpenAI API Key exists and begins sk-proj-\n",
      "Anthropic API Key exists and begins sk-ant-\n",
      "Google API Key exists and begins AI\n",
      "Groq API Key exists and begins gsk_\n"
     ]
    }
   ],
   "source": [
    "# Print the key prefixes to help with any debugging\n",
    "\n",
    "openai_api_key = os.getenv('OPENAI_API_KEY')\n",
    "anthropic_api_key = os.getenv('ANTHROPIC_API_KEY')\n",
    "google_api_key = os.getenv('GOOGLE_API_KEY')\n",
    "#deepseek_api_key = os.getenv('DEEPSEEK_API_KEY')\n",
    "groq_api_key = os.getenv('GROQ_API_KEY')\n",
    "\n",
    "if openai_api_key:\n",
    "    print(f\"OpenAI API Key exists and begins {openai_api_key[:8]}\")\n",
    "else:\n",
    "    print(\"OpenAI API Key not set\")\n",
    "    \n",
    "if anthropic_api_key:\n",
    "    print(f\"Anthropic API Key exists and begins {anthropic_api_key[:7]}\")\n",
    "else:\n",
    "    print(\"Anthropic API Key not set (and this is optional)\")\n",
    "\n",
    "if google_api_key:\n",
    "    print(f\"Google API Key exists and begins {google_api_key[:2]}\")\n",
    "else:\n",
    "    print(\"Google API Key not set (and this is optional)\")\n",
    "\n",
    "#if deepseek_api_key:\n",
    "#    print(f\"DeepSeek API Key exists and begins {deepseek_api_key[:3]}\")\n",
    "#else:\n",
    "#    print(\"DeepSeek API Key not set (and this is optional)\")\n",
    "\n",
    "if groq_api_key:\n",
    "    print(f\"Groq API Key exists and begins {groq_api_key[:4]}\")\n",
    "else:\n",
    "    print(\"Groq API Key not set (and this is optional)\")"
   ]
  },
  {
   "cell_type": "code",
   "execution_count": 67,
   "metadata": {},
   "outputs": [],
   "source": [
    "request = \"Please come up with a challenging, nuanced question that I can ask a number of LLMs to evaluate their intelligence. \"\n",
    "request += \"Answer only with the question, no explanation.\"\n",
    "messages = [{\"role\": \"user\", \"content\": request}]"
   ]
  },
  {
   "cell_type": "code",
   "execution_count": 68,
   "metadata": {},
   "outputs": [
    {
     "data": {
      "text/plain": [
       "[{'role': 'user',\n",
       "  'content': 'Please come up with a challenging, nuanced question that I can ask a number of LLMs to evaluate their intelligence. Answer only with the question, no explanation.'}]"
      ]
     },
     "execution_count": 68,
     "metadata": {},
     "output_type": "execute_result"
    }
   ],
   "source": [
    "messages"
   ]
  },
  {
   "cell_type": "code",
   "execution_count": 69,
   "metadata": {},
   "outputs": [
    {
     "name": "stdout",
     "output_type": "stream",
     "text": [
      "How can the concept of moral relativism be reconciled with the pursuit of universal human rights in a globally interconnected society?\n"
     ]
    }
   ],
   "source": [
    "openai = OpenAI()\n",
    "response = openai.chat.completions.create(\n",
    "    model=\"gpt-4o-mini\",\n",
    "    messages=messages,\n",
    ")\n",
    "question = response.choices[0].message.content\n",
    "print(question)\n"
   ]
  },
  {
   "cell_type": "code",
   "execution_count": 70,
   "metadata": {},
   "outputs": [],
   "source": [
    "competitors = []\n",
    "answers = []\n",
    "messages = [{\"role\": \"user\", \"content\": question}]"
   ]
  },
  {
   "cell_type": "code",
   "execution_count": 71,
   "metadata": {},
   "outputs": [
    {
     "data": {
      "text/markdown": [
       "The reconciliation of moral relativism with the pursuit of universal human rights in a globally interconnected society is a complex challenge that involves navigating differing cultural values, ethical beliefs, and social norms. Here are several ways this reconciliation can be approached:\n",
       "\n",
       "1. **Understanding Cultural Contexts**: Moral relativism posits that moral truths are not absolute but are shaped by cultural contexts and social constructs. Recognizing and respecting diverse values can encourage dialogue about human rights while acknowledging that different cultures may interpret these rights differently. This understanding can help advocates of universal human rights to communicate effectively and sensitively with various cultural perspectives.\n",
       "\n",
       "2. **Finding Common Ground**: Although cultures may differ in their values, many share fundamental principles. The pursuit of universal human rights can be strengthened by identifying these shared values, such as the inherent dignity of the individual, justice, and equality. Documents like the Universal Declaration of Human Rights (UDHR), while framed through a Western lens, include concepts that resonate across cultures, offering a basis for dialogue and cooperation.\n",
       "\n",
       "3. **Inclusive Human Rights Frameworks**: Incorporating local customs and values into human rights frameworks can help bridge the gap between moral relativism and universalism. By allowing for culturally specific interpretations of rights that maintain core principles, such frameworks can be more widely accepted while still promoting human dignity and justice.\n",
       "\n",
       "4. **Promoting Human Rights as Aspirational Goals**: Rather than imposing a one-size-fits-all understanding of human rights, they can be framed as aspirational goals that societies strive toward, allowing for gradual social evolution and adaptation as cultures negotiate these rights internally. This approach acknowledges existing moral frameworks while pushing for broader acceptance of human rights principles over time.\n",
       "\n",
       "5. **Encouraging Ethical Dialogue**: Moral relativism emphasizes dialogue and understanding as essential tools for resolving ethical disputes. Global conversations about human rights can lead to a richer, more nuanced understanding of how these rights are interpreted in different contexts. This dialogue can facilitate the development of hybrid solutions that respect cultural differences while promoting fundamental human rights.\n",
       "\n",
       "6. **Emphasizing Accountability**: Ultimately, human rights should serve as a framework for accountability in a globalized world. Engaging with local communities to address their specific rights concerns can build a stronger foundation for protecting rights while respecting cultural diversity. Accountability mechanisms that respect local traditions, yet uphold core human rights standards, can create bridges between relativism and universality.\n",
       "\n",
       "7. **Education and Awareness**: Promoting awareness about the importance of human rights across different cultures can help foster a universal ethos that respects diversity while advocating for fundamental freedoms. Educational initiatives based on empathy and cross-cultural understanding can transform societal norms and attitudes toward both cultural practices and human rights.\n",
       "\n",
       "By navigating the tensions between moral relativism and universal human rights through dialogue, education, and a commitment to mutual respect, societies can work towards a more harmonious global community that honors both cultural diversity and the shared dignity of all people."
      ],
      "text/plain": [
       "<IPython.core.display.Markdown object>"
      ]
     },
     "metadata": {},
     "output_type": "display_data"
    }
   ],
   "source": [
    "# The API we know well\n",
    "\n",
    "model_name = \"gpt-4o-mini\"\n",
    "\n",
    "response = openai.chat.completions.create(model=model_name, messages=messages)\n",
    "answer = response.choices[0].message.content\n",
    "\n",
    "display(Markdown(answer))\n",
    "competitors.append(model_name)\n",
    "answers.append(answer)"
   ]
  },
  {
   "cell_type": "code",
   "execution_count": 72,
   "metadata": {},
   "outputs": [
    {
     "data": {
      "text/markdown": [
       "# Moral Relativism and Universal Human Rights: Finding Common Ground\n",
       "\n",
       "This is a profound philosophical tension. Moral relativism suggests ethical standards are culturally determined, while universal human rights presupposes cross-cultural moral principles. Several approaches attempt reconciliation:\n",
       "\n",
       "**Minimal Universalism**: Identifying core protections against extreme suffering that transcend cultural differences while allowing cultural variation in other domains.\n",
       "\n",
       "**Overlapping Consensus**: As proposed by Rawls, diverse cultures may support similar rights for different underlying reasons, finding agreement on practices without requiring agreement on justifications.\n",
       "\n",
       "**Dialogical Approach**: Establishing cross-cultural dialogue where rights emerge through inclusive conversation rather than imposition. This recognizes both cultural context and human commonality.\n",
       "\n",
       "**Capabilities Approach**: Focusing on enabling fundamental human capabilities that allow flourishing across cultures, as articulated by Sen and Nussbaum.\n",
       "\n",
       "The most promising reconciliations acknowledge both human commonality and cultural diversity, viewing rights as evolving through cross-cultural engagement rather than as fixed Western impositions or entirely relative constructs."
      ],
      "text/plain": [
       "<IPython.core.display.Markdown object>"
      ]
     },
     "metadata": {},
     "output_type": "display_data"
    }
   ],
   "source": [
    "# Anthropic has a slightly different API, and Max Tokens is required\n",
    "\n",
    "model_name = \"claude-3-7-sonnet-latest\"\n",
    "\n",
    "claude = Anthropic()\n",
    "response = claude.messages.create(model=model_name, messages=messages, max_tokens=1000)\n",
    "answer = response.content[0].text\n",
    "\n",
    "display(Markdown(answer))\n",
    "competitors.append(model_name)\n",
    "answers.append(answer)"
   ]
  },
  {
   "cell_type": "code",
   "execution_count": 73,
   "metadata": {},
   "outputs": [
    {
     "data": {
      "text/markdown": [
       "The concept of moral relativism, which suggests that moral judgments are relative to the cultural, historical, or personal context, can create tension with the idea of universal human rights, which are intended to be absolute and applicable to all individuals regardless of their cultural or national background. To reconcile these two concepts, several approaches can be taken:\n",
       "\n",
       "1. **Minimalist Universalism**: This approach recognizes that, despite cultural differences, there are some basic human rights and dignity that should be respected universally, such as the right to life, freedom from torture, and freedom of conscience. This minimalist approach can provide a foundation for universal human rights that can be accepted across different cultural contexts.\n",
       "2. **Overlapping Consensus**: This concept, developed by John Rawls, suggests that while different cultures may have different moral and philosophical foundations, there can be an overlapping consensus on certain basic human rights and principles. This approach can help identify areas of agreement that can be used as a basis for universal human rights.\n",
       "3. **Contextual Universality**: This approach recognizes that universal human rights can be applied in different contexts, but the specific implementation and interpretation of these rights may vary depending on the cultural, historical, and social context. This approach can help balance the need for universal standards with the need for cultural sensitivity and adaptability.\n",
       "4. **Dialogue and Deliberation**: Engaging in open and inclusive dialogue and deliberation can help reconcile moral relativism with universal human rights. By listening to and learning from different perspectives, individuals and societies can develop a deeper understanding of the universal values and principles that underlie human rights, and find ways to apply them in a culturally sensitive and context-specific manner.\n",
       "5. **Common Humanity**: This approach emphasizes the shared human experience and the commonalities that exist across different cultures and societies. By recognizing that all individuals share a common humanity, we can develop a sense of universal solidarity and responsibility for promoting human rights and dignity, regardless of cultural or national differences.\n",
       "6. **Principled Pragmatism**: This approach recognizes that, in a globally interconnected society, moral relativism and universal human rights are not mutually exclusive, but rather complementary. By applying a principled and pragmatic approach, we can balance the need for cultural sensitivity with the need for universal standards, and find ways to promote human rights and dignity in a way that is respectful of different cultural contexts.\n",
       "7. **Human Rights as a Language of Moral Discourse**: This approach views human rights as a shared language of moral discourse, which can facilitate communication and cooperation across different cultural and national boundaries. By using human rights as a common language, individuals and societies can engage in a shared moral conversation, even if they do not agree on all the specifics of moral relativism.\n",
       "\n",
       "In conclusion, the reconciliation of moral relativism with universal human rights requires a nuanced and context-specific approach. By recognizing the complexities and diversity of human experience, and by engaging in open and inclusive dialogue, we can develop a deeper understanding of the universal values and principles that underlie human rights, and find ways to apply them in a way that is respectful of different cultural contexts and promotes the dignity and well-being of all individuals.\n",
       "\n",
       "**Key Strategies for Reconciliation:**\n",
       "\n",
       "1. Encourage dialogue and deliberation across cultural and national boundaries.\n",
       "2. Develop a shared language of moral discourse based on human rights.\n",
       "3. Emphasize the shared human experience and common humanity.\n",
       "4. Apply a principled and pragmatic approach to promoting human rights.\n",
       "5. Recognize the importance of cultural sensitivity and adaptability in implementing human rights.\n",
       "6. Foster a culture of inclusivity, tolerance, and respect for diversity.\n",
       "\n",
       "**Challenges and Limitations:**\n",
       "\n",
       "1. Balancing cultural sensitivity with universal standards.\n",
       "2. Addressing power imbalances and inequalities in the promotion of human rights.\n",
       "3. Managing conflicting moral and philosophical perspectives.\n",
       "4. Ensuring that human rights are not used as a tool for cultural imperialism or Western dominance.\n",
       "5. Developing effective mechanisms for enforcing human rights and holding states and individuals accountable."
      ],
      "text/plain": [
       "<IPython.core.display.Markdown object>"
      ]
     },
     "metadata": {},
     "output_type": "display_data"
    }
   ],
   "source": [
    "groq = OpenAI(api_key=groq_api_key, base_url=\"https://api.groq.com/openai/v1\")\n",
    "model_name = \"llama-3.3-70b-versatile\"\n",
    "\n",
    "response = groq.chat.completions.create(model=model_name, messages=messages)\n",
    "answer = response.choices[0].message.content\n",
    "\n",
    "display(Markdown(answer))\n",
    "competitors.append(model_name)\n",
    "answers.append(answer)\n"
   ]
  },
  {
   "cell_type": "markdown",
   "metadata": {},
   "source": [
    "## For the next cell, we will use Ollama\n",
    "\n",
    "Ollama runs a local web service that gives an OpenAI compatible endpoint,  \n",
    "and runs models locally using high performance C++ code.\n",
    "\n",
    "If you don't have Ollama, install it here by visiting https://ollama.com then pressing Download and following the instructions.\n",
    "\n",
    "After it's installed, you should be able to visit here: http://localhost:11434 and see the message \"Ollama is running\"\n",
    "\n",
    "You might need to restart Cursor (and maybe reboot). Then open a Terminal (control+\\`) and run `ollama serve`\n",
    "\n",
    "Useful Ollama commands (run these in the terminal, or with an exclamation mark in this notebook):\n",
    "\n",
    "`ollama pull <model_name>` downloads a model locally  \n",
    "`ollama ls` lists all the models you've downloaded  \n",
    "`ollama rm <model_name>` deletes the specified model from your downloads"
   ]
  },
  {
   "cell_type": "markdown",
   "metadata": {},
   "source": [
    "<table style=\"margin: 0; text-align: left; width:100%\">\n",
    "    <tr>\n",
    "        <td style=\"width: 150px; height: 150px; vertical-align: middle;\">\n",
    "            <img src=\"../assets/stop.png\" width=\"150\" height=\"150\" style=\"display: block;\" />\n",
    "        </td>\n",
    "        <td>\n",
    "            <h2 style=\"color:#ff7800;\">Super important - ignore me at your peril!</h2>\n",
    "            <span style=\"color:#ff7800;\">The model called <b>llama3.3</b> is FAR too large for home computers - it's not intended for personal computing and will consume all your resources! Stick with the nicely sized <b>llama3.2</b> or <b>llama3.2:1b</b> and if you want larger, try llama3.1 or smaller variants of Qwen, Gemma, Phi or DeepSeek. See the <A href=\"https://ollama.com/models\">the Ollama models page</a> for a full list of models and sizes.\n",
    "            </span>\n",
    "        </td>\n",
    "    </tr>\n",
    "</table>"
   ]
  },
  {
   "cell_type": "code",
   "execution_count": 74,
   "metadata": {},
   "outputs": [
    {
     "name": "stdout",
     "output_type": "stream",
     "text": [
      "['gpt-4o-mini', 'claude-3-7-sonnet-latest', 'llama-3.3-70b-versatile']\n",
      "['The reconciliation of moral relativism with the pursuit of universal human rights in a globally interconnected society is a complex challenge that involves navigating differing cultural values, ethical beliefs, and social norms. Here are several ways this reconciliation can be approached:\\n\\n1. **Understanding Cultural Contexts**: Moral relativism posits that moral truths are not absolute but are shaped by cultural contexts and social constructs. Recognizing and respecting diverse values can encourage dialogue about human rights while acknowledging that different cultures may interpret these rights differently. This understanding can help advocates of universal human rights to communicate effectively and sensitively with various cultural perspectives.\\n\\n2. **Finding Common Ground**: Although cultures may differ in their values, many share fundamental principles. The pursuit of universal human rights can be strengthened by identifying these shared values, such as the inherent dignity of the individual, justice, and equality. Documents like the Universal Declaration of Human Rights (UDHR), while framed through a Western lens, include concepts that resonate across cultures, offering a basis for dialogue and cooperation.\\n\\n3. **Inclusive Human Rights Frameworks**: Incorporating local customs and values into human rights frameworks can help bridge the gap between moral relativism and universalism. By allowing for culturally specific interpretations of rights that maintain core principles, such frameworks can be more widely accepted while still promoting human dignity and justice.\\n\\n4. **Promoting Human Rights as Aspirational Goals**: Rather than imposing a one-size-fits-all understanding of human rights, they can be framed as aspirational goals that societies strive toward, allowing for gradual social evolution and adaptation as cultures negotiate these rights internally. This approach acknowledges existing moral frameworks while pushing for broader acceptance of human rights principles over time.\\n\\n5. **Encouraging Ethical Dialogue**: Moral relativism emphasizes dialogue and understanding as essential tools for resolving ethical disputes. Global conversations about human rights can lead to a richer, more nuanced understanding of how these rights are interpreted in different contexts. This dialogue can facilitate the development of hybrid solutions that respect cultural differences while promoting fundamental human rights.\\n\\n6. **Emphasizing Accountability**: Ultimately, human rights should serve as a framework for accountability in a globalized world. Engaging with local communities to address their specific rights concerns can build a stronger foundation for protecting rights while respecting cultural diversity. Accountability mechanisms that respect local traditions, yet uphold core human rights standards, can create bridges between relativism and universality.\\n\\n7. **Education and Awareness**: Promoting awareness about the importance of human rights across different cultures can help foster a universal ethos that respects diversity while advocating for fundamental freedoms. Educational initiatives based on empathy and cross-cultural understanding can transform societal norms and attitudes toward both cultural practices and human rights.\\n\\nBy navigating the tensions between moral relativism and universal human rights through dialogue, education, and a commitment to mutual respect, societies can work towards a more harmonious global community that honors both cultural diversity and the shared dignity of all people.', '# Moral Relativism and Universal Human Rights: Finding Common Ground\\n\\nThis is a profound philosophical tension. Moral relativism suggests ethical standards are culturally determined, while universal human rights presupposes cross-cultural moral principles. Several approaches attempt reconciliation:\\n\\n**Minimal Universalism**: Identifying core protections against extreme suffering that transcend cultural differences while allowing cultural variation in other domains.\\n\\n**Overlapping Consensus**: As proposed by Rawls, diverse cultures may support similar rights for different underlying reasons, finding agreement on practices without requiring agreement on justifications.\\n\\n**Dialogical Approach**: Establishing cross-cultural dialogue where rights emerge through inclusive conversation rather than imposition. This recognizes both cultural context and human commonality.\\n\\n**Capabilities Approach**: Focusing on enabling fundamental human capabilities that allow flourishing across cultures, as articulated by Sen and Nussbaum.\\n\\nThe most promising reconciliations acknowledge both human commonality and cultural diversity, viewing rights as evolving through cross-cultural engagement rather than as fixed Western impositions or entirely relative constructs.', 'The concept of moral relativism, which suggests that moral judgments are relative to the cultural, historical, or personal context, can create tension with the idea of universal human rights, which are intended to be absolute and applicable to all individuals regardless of their cultural or national background. To reconcile these two concepts, several approaches can be taken:\\n\\n1. **Minimalist Universalism**: This approach recognizes that, despite cultural differences, there are some basic human rights and dignity that should be respected universally, such as the right to life, freedom from torture, and freedom of conscience. This minimalist approach can provide a foundation for universal human rights that can be accepted across different cultural contexts.\\n2. **Overlapping Consensus**: This concept, developed by John Rawls, suggests that while different cultures may have different moral and philosophical foundations, there can be an overlapping consensus on certain basic human rights and principles. This approach can help identify areas of agreement that can be used as a basis for universal human rights.\\n3. **Contextual Universality**: This approach recognizes that universal human rights can be applied in different contexts, but the specific implementation and interpretation of these rights may vary depending on the cultural, historical, and social context. This approach can help balance the need for universal standards with the need for cultural sensitivity and adaptability.\\n4. **Dialogue and Deliberation**: Engaging in open and inclusive dialogue and deliberation can help reconcile moral relativism with universal human rights. By listening to and learning from different perspectives, individuals and societies can develop a deeper understanding of the universal values and principles that underlie human rights, and find ways to apply them in a culturally sensitive and context-specific manner.\\n5. **Common Humanity**: This approach emphasizes the shared human experience and the commonalities that exist across different cultures and societies. By recognizing that all individuals share a common humanity, we can develop a sense of universal solidarity and responsibility for promoting human rights and dignity, regardless of cultural or national differences.\\n6. **Principled Pragmatism**: This approach recognizes that, in a globally interconnected society, moral relativism and universal human rights are not mutually exclusive, but rather complementary. By applying a principled and pragmatic approach, we can balance the need for cultural sensitivity with the need for universal standards, and find ways to promote human rights and dignity in a way that is respectful of different cultural contexts.\\n7. **Human Rights as a Language of Moral Discourse**: This approach views human rights as a shared language of moral discourse, which can facilitate communication and cooperation across different cultural and national boundaries. By using human rights as a common language, individuals and societies can engage in a shared moral conversation, even if they do not agree on all the specifics of moral relativism.\\n\\nIn conclusion, the reconciliation of moral relativism with universal human rights requires a nuanced and context-specific approach. By recognizing the complexities and diversity of human experience, and by engaging in open and inclusive dialogue, we can develop a deeper understanding of the universal values and principles that underlie human rights, and find ways to apply them in a way that is respectful of different cultural contexts and promotes the dignity and well-being of all individuals.\\n\\n**Key Strategies for Reconciliation:**\\n\\n1. Encourage dialogue and deliberation across cultural and national boundaries.\\n2. Develop a shared language of moral discourse based on human rights.\\n3. Emphasize the shared human experience and common humanity.\\n4. Apply a principled and pragmatic approach to promoting human rights.\\n5. Recognize the importance of cultural sensitivity and adaptability in implementing human rights.\\n6. Foster a culture of inclusivity, tolerance, and respect for diversity.\\n\\n**Challenges and Limitations:**\\n\\n1. Balancing cultural sensitivity with universal standards.\\n2. Addressing power imbalances and inequalities in the promotion of human rights.\\n3. Managing conflicting moral and philosophical perspectives.\\n4. Ensuring that human rights are not used as a tool for cultural imperialism or Western dominance.\\n5. Developing effective mechanisms for enforcing human rights and holding states and individuals accountable.']\n"
     ]
    }
   ],
   "source": [
    "# So where are we?\n",
    "\n",
    "print(competitors)\n",
    "print(answers)\n"
   ]
  },
  {
   "cell_type": "code",
   "execution_count": 75,
   "metadata": {},
   "outputs": [
    {
     "name": "stdout",
     "output_type": "stream",
     "text": [
      "Competitor: gpt-4o-mini\n",
      "\n",
      "The reconciliation of moral relativism with the pursuit of universal human rights in a globally interconnected society is a complex challenge that involves navigating differing cultural values, ethical beliefs, and social norms. Here are several ways this reconciliation can be approached:\n",
      "\n",
      "1. **Understanding Cultural Contexts**: Moral relativism posits that moral truths are not absolute but are shaped by cultural contexts and social constructs. Recognizing and respecting diverse values can encourage dialogue about human rights while acknowledging that different cultures may interpret these rights differently. This understanding can help advocates of universal human rights to communicate effectively and sensitively with various cultural perspectives.\n",
      "\n",
      "2. **Finding Common Ground**: Although cultures may differ in their values, many share fundamental principles. The pursuit of universal human rights can be strengthened by identifying these shared values, such as the inherent dignity of the individual, justice, and equality. Documents like the Universal Declaration of Human Rights (UDHR), while framed through a Western lens, include concepts that resonate across cultures, offering a basis for dialogue and cooperation.\n",
      "\n",
      "3. **Inclusive Human Rights Frameworks**: Incorporating local customs and values into human rights frameworks can help bridge the gap between moral relativism and universalism. By allowing for culturally specific interpretations of rights that maintain core principles, such frameworks can be more widely accepted while still promoting human dignity and justice.\n",
      "\n",
      "4. **Promoting Human Rights as Aspirational Goals**: Rather than imposing a one-size-fits-all understanding of human rights, they can be framed as aspirational goals that societies strive toward, allowing for gradual social evolution and adaptation as cultures negotiate these rights internally. This approach acknowledges existing moral frameworks while pushing for broader acceptance of human rights principles over time.\n",
      "\n",
      "5. **Encouraging Ethical Dialogue**: Moral relativism emphasizes dialogue and understanding as essential tools for resolving ethical disputes. Global conversations about human rights can lead to a richer, more nuanced understanding of how these rights are interpreted in different contexts. This dialogue can facilitate the development of hybrid solutions that respect cultural differences while promoting fundamental human rights.\n",
      "\n",
      "6. **Emphasizing Accountability**: Ultimately, human rights should serve as a framework for accountability in a globalized world. Engaging with local communities to address their specific rights concerns can build a stronger foundation for protecting rights while respecting cultural diversity. Accountability mechanisms that respect local traditions, yet uphold core human rights standards, can create bridges between relativism and universality.\n",
      "\n",
      "7. **Education and Awareness**: Promoting awareness about the importance of human rights across different cultures can help foster a universal ethos that respects diversity while advocating for fundamental freedoms. Educational initiatives based on empathy and cross-cultural understanding can transform societal norms and attitudes toward both cultural practices and human rights.\n",
      "\n",
      "By navigating the tensions between moral relativism and universal human rights through dialogue, education, and a commitment to mutual respect, societies can work towards a more harmonious global community that honors both cultural diversity and the shared dignity of all people.\n",
      "Competitor: claude-3-7-sonnet-latest\n",
      "\n",
      "# Moral Relativism and Universal Human Rights: Finding Common Ground\n",
      "\n",
      "This is a profound philosophical tension. Moral relativism suggests ethical standards are culturally determined, while universal human rights presupposes cross-cultural moral principles. Several approaches attempt reconciliation:\n",
      "\n",
      "**Minimal Universalism**: Identifying core protections against extreme suffering that transcend cultural differences while allowing cultural variation in other domains.\n",
      "\n",
      "**Overlapping Consensus**: As proposed by Rawls, diverse cultures may support similar rights for different underlying reasons, finding agreement on practices without requiring agreement on justifications.\n",
      "\n",
      "**Dialogical Approach**: Establishing cross-cultural dialogue where rights emerge through inclusive conversation rather than imposition. This recognizes both cultural context and human commonality.\n",
      "\n",
      "**Capabilities Approach**: Focusing on enabling fundamental human capabilities that allow flourishing across cultures, as articulated by Sen and Nussbaum.\n",
      "\n",
      "The most promising reconciliations acknowledge both human commonality and cultural diversity, viewing rights as evolving through cross-cultural engagement rather than as fixed Western impositions or entirely relative constructs.\n",
      "Competitor: llama-3.3-70b-versatile\n",
      "\n",
      "The concept of moral relativism, which suggests that moral judgments are relative to the cultural, historical, or personal context, can create tension with the idea of universal human rights, which are intended to be absolute and applicable to all individuals regardless of their cultural or national background. To reconcile these two concepts, several approaches can be taken:\n",
      "\n",
      "1. **Minimalist Universalism**: This approach recognizes that, despite cultural differences, there are some basic human rights and dignity that should be respected universally, such as the right to life, freedom from torture, and freedom of conscience. This minimalist approach can provide a foundation for universal human rights that can be accepted across different cultural contexts.\n",
      "2. **Overlapping Consensus**: This concept, developed by John Rawls, suggests that while different cultures may have different moral and philosophical foundations, there can be an overlapping consensus on certain basic human rights and principles. This approach can help identify areas of agreement that can be used as a basis for universal human rights.\n",
      "3. **Contextual Universality**: This approach recognizes that universal human rights can be applied in different contexts, but the specific implementation and interpretation of these rights may vary depending on the cultural, historical, and social context. This approach can help balance the need for universal standards with the need for cultural sensitivity and adaptability.\n",
      "4. **Dialogue and Deliberation**: Engaging in open and inclusive dialogue and deliberation can help reconcile moral relativism with universal human rights. By listening to and learning from different perspectives, individuals and societies can develop a deeper understanding of the universal values and principles that underlie human rights, and find ways to apply them in a culturally sensitive and context-specific manner.\n",
      "5. **Common Humanity**: This approach emphasizes the shared human experience and the commonalities that exist across different cultures and societies. By recognizing that all individuals share a common humanity, we can develop a sense of universal solidarity and responsibility for promoting human rights and dignity, regardless of cultural or national differences.\n",
      "6. **Principled Pragmatism**: This approach recognizes that, in a globally interconnected society, moral relativism and universal human rights are not mutually exclusive, but rather complementary. By applying a principled and pragmatic approach, we can balance the need for cultural sensitivity with the need for universal standards, and find ways to promote human rights and dignity in a way that is respectful of different cultural contexts.\n",
      "7. **Human Rights as a Language of Moral Discourse**: This approach views human rights as a shared language of moral discourse, which can facilitate communication and cooperation across different cultural and national boundaries. By using human rights as a common language, individuals and societies can engage in a shared moral conversation, even if they do not agree on all the specifics of moral relativism.\n",
      "\n",
      "In conclusion, the reconciliation of moral relativism with universal human rights requires a nuanced and context-specific approach. By recognizing the complexities and diversity of human experience, and by engaging in open and inclusive dialogue, we can develop a deeper understanding of the universal values and principles that underlie human rights, and find ways to apply them in a way that is respectful of different cultural contexts and promotes the dignity and well-being of all individuals.\n",
      "\n",
      "**Key Strategies for Reconciliation:**\n",
      "\n",
      "1. Encourage dialogue and deliberation across cultural and national boundaries.\n",
      "2. Develop a shared language of moral discourse based on human rights.\n",
      "3. Emphasize the shared human experience and common humanity.\n",
      "4. Apply a principled and pragmatic approach to promoting human rights.\n",
      "5. Recognize the importance of cultural sensitivity and adaptability in implementing human rights.\n",
      "6. Foster a culture of inclusivity, tolerance, and respect for diversity.\n",
      "\n",
      "**Challenges and Limitations:**\n",
      "\n",
      "1. Balancing cultural sensitivity with universal standards.\n",
      "2. Addressing power imbalances and inequalities in the promotion of human rights.\n",
      "3. Managing conflicting moral and philosophical perspectives.\n",
      "4. Ensuring that human rights are not used as a tool for cultural imperialism or Western dominance.\n",
      "5. Developing effective mechanisms for enforcing human rights and holding states and individuals accountable.\n"
     ]
    }
   ],
   "source": [
    "# It's nice to know how to use \"zip\"\n",
    "for competitor, answer in zip(competitors, answers):\n",
    "    print(f\"Competitor: {competitor}\\n\\n{answer}\")\n"
   ]
  },
  {
   "cell_type": "code",
   "execution_count": 76,
   "metadata": {},
   "outputs": [],
   "source": [
    "# Let's bring this together - note the use of \"enumerate\"\n",
    "\n",
    "together = \"\"\n",
    "for index, answer in enumerate(answers):\n",
    "    together += f\"# Response from competitor {index+1}\\n\\n\"\n",
    "    together += answer + \"\\n\\n\""
   ]
  },
  {
   "cell_type": "code",
   "execution_count": 77,
   "metadata": {},
   "outputs": [
    {
     "name": "stdout",
     "output_type": "stream",
     "text": [
      "# Response from competitor 1\n",
      "\n",
      "The reconciliation of moral relativism with the pursuit of universal human rights in a globally interconnected society is a complex challenge that involves navigating differing cultural values, ethical beliefs, and social norms. Here are several ways this reconciliation can be approached:\n",
      "\n",
      "1. **Understanding Cultural Contexts**: Moral relativism posits that moral truths are not absolute but are shaped by cultural contexts and social constructs. Recognizing and respecting diverse values can encourage dialogue about human rights while acknowledging that different cultures may interpret these rights differently. This understanding can help advocates of universal human rights to communicate effectively and sensitively with various cultural perspectives.\n",
      "\n",
      "2. **Finding Common Ground**: Although cultures may differ in their values, many share fundamental principles. The pursuit of universal human rights can be strengthened by identifying these shared values, such as the inherent dignity of the individual, justice, and equality. Documents like the Universal Declaration of Human Rights (UDHR), while framed through a Western lens, include concepts that resonate across cultures, offering a basis for dialogue and cooperation.\n",
      "\n",
      "3. **Inclusive Human Rights Frameworks**: Incorporating local customs and values into human rights frameworks can help bridge the gap between moral relativism and universalism. By allowing for culturally specific interpretations of rights that maintain core principles, such frameworks can be more widely accepted while still promoting human dignity and justice.\n",
      "\n",
      "4. **Promoting Human Rights as Aspirational Goals**: Rather than imposing a one-size-fits-all understanding of human rights, they can be framed as aspirational goals that societies strive toward, allowing for gradual social evolution and adaptation as cultures negotiate these rights internally. This approach acknowledges existing moral frameworks while pushing for broader acceptance of human rights principles over time.\n",
      "\n",
      "5. **Encouraging Ethical Dialogue**: Moral relativism emphasizes dialogue and understanding as essential tools for resolving ethical disputes. Global conversations about human rights can lead to a richer, more nuanced understanding of how these rights are interpreted in different contexts. This dialogue can facilitate the development of hybrid solutions that respect cultural differences while promoting fundamental human rights.\n",
      "\n",
      "6. **Emphasizing Accountability**: Ultimately, human rights should serve as a framework for accountability in a globalized world. Engaging with local communities to address their specific rights concerns can build a stronger foundation for protecting rights while respecting cultural diversity. Accountability mechanisms that respect local traditions, yet uphold core human rights standards, can create bridges between relativism and universality.\n",
      "\n",
      "7. **Education and Awareness**: Promoting awareness about the importance of human rights across different cultures can help foster a universal ethos that respects diversity while advocating for fundamental freedoms. Educational initiatives based on empathy and cross-cultural understanding can transform societal norms and attitudes toward both cultural practices and human rights.\n",
      "\n",
      "By navigating the tensions between moral relativism and universal human rights through dialogue, education, and a commitment to mutual respect, societies can work towards a more harmonious global community that honors both cultural diversity and the shared dignity of all people.\n",
      "\n",
      "# Response from competitor 2\n",
      "\n",
      "# Moral Relativism and Universal Human Rights: Finding Common Ground\n",
      "\n",
      "This is a profound philosophical tension. Moral relativism suggests ethical standards are culturally determined, while universal human rights presupposes cross-cultural moral principles. Several approaches attempt reconciliation:\n",
      "\n",
      "**Minimal Universalism**: Identifying core protections against extreme suffering that transcend cultural differences while allowing cultural variation in other domains.\n",
      "\n",
      "**Overlapping Consensus**: As proposed by Rawls, diverse cultures may support similar rights for different underlying reasons, finding agreement on practices without requiring agreement on justifications.\n",
      "\n",
      "**Dialogical Approach**: Establishing cross-cultural dialogue where rights emerge through inclusive conversation rather than imposition. This recognizes both cultural context and human commonality.\n",
      "\n",
      "**Capabilities Approach**: Focusing on enabling fundamental human capabilities that allow flourishing across cultures, as articulated by Sen and Nussbaum.\n",
      "\n",
      "The most promising reconciliations acknowledge both human commonality and cultural diversity, viewing rights as evolving through cross-cultural engagement rather than as fixed Western impositions or entirely relative constructs.\n",
      "\n",
      "# Response from competitor 3\n",
      "\n",
      "The concept of moral relativism, which suggests that moral judgments are relative to the cultural, historical, or personal context, can create tension with the idea of universal human rights, which are intended to be absolute and applicable to all individuals regardless of their cultural or national background. To reconcile these two concepts, several approaches can be taken:\n",
      "\n",
      "1. **Minimalist Universalism**: This approach recognizes that, despite cultural differences, there are some basic human rights and dignity that should be respected universally, such as the right to life, freedom from torture, and freedom of conscience. This minimalist approach can provide a foundation for universal human rights that can be accepted across different cultural contexts.\n",
      "2. **Overlapping Consensus**: This concept, developed by John Rawls, suggests that while different cultures may have different moral and philosophical foundations, there can be an overlapping consensus on certain basic human rights and principles. This approach can help identify areas of agreement that can be used as a basis for universal human rights.\n",
      "3. **Contextual Universality**: This approach recognizes that universal human rights can be applied in different contexts, but the specific implementation and interpretation of these rights may vary depending on the cultural, historical, and social context. This approach can help balance the need for universal standards with the need for cultural sensitivity and adaptability.\n",
      "4. **Dialogue and Deliberation**: Engaging in open and inclusive dialogue and deliberation can help reconcile moral relativism with universal human rights. By listening to and learning from different perspectives, individuals and societies can develop a deeper understanding of the universal values and principles that underlie human rights, and find ways to apply them in a culturally sensitive and context-specific manner.\n",
      "5. **Common Humanity**: This approach emphasizes the shared human experience and the commonalities that exist across different cultures and societies. By recognizing that all individuals share a common humanity, we can develop a sense of universal solidarity and responsibility for promoting human rights and dignity, regardless of cultural or national differences.\n",
      "6. **Principled Pragmatism**: This approach recognizes that, in a globally interconnected society, moral relativism and universal human rights are not mutually exclusive, but rather complementary. By applying a principled and pragmatic approach, we can balance the need for cultural sensitivity with the need for universal standards, and find ways to promote human rights and dignity in a way that is respectful of different cultural contexts.\n",
      "7. **Human Rights as a Language of Moral Discourse**: This approach views human rights as a shared language of moral discourse, which can facilitate communication and cooperation across different cultural and national boundaries. By using human rights as a common language, individuals and societies can engage in a shared moral conversation, even if they do not agree on all the specifics of moral relativism.\n",
      "\n",
      "In conclusion, the reconciliation of moral relativism with universal human rights requires a nuanced and context-specific approach. By recognizing the complexities and diversity of human experience, and by engaging in open and inclusive dialogue, we can develop a deeper understanding of the universal values and principles that underlie human rights, and find ways to apply them in a way that is respectful of different cultural contexts and promotes the dignity and well-being of all individuals.\n",
      "\n",
      "**Key Strategies for Reconciliation:**\n",
      "\n",
      "1. Encourage dialogue and deliberation across cultural and national boundaries.\n",
      "2. Develop a shared language of moral discourse based on human rights.\n",
      "3. Emphasize the shared human experience and common humanity.\n",
      "4. Apply a principled and pragmatic approach to promoting human rights.\n",
      "5. Recognize the importance of cultural sensitivity and adaptability in implementing human rights.\n",
      "6. Foster a culture of inclusivity, tolerance, and respect for diversity.\n",
      "\n",
      "**Challenges and Limitations:**\n",
      "\n",
      "1. Balancing cultural sensitivity with universal standards.\n",
      "2. Addressing power imbalances and inequalities in the promotion of human rights.\n",
      "3. Managing conflicting moral and philosophical perspectives.\n",
      "4. Ensuring that human rights are not used as a tool for cultural imperialism or Western dominance.\n",
      "5. Developing effective mechanisms for enforcing human rights and holding states and individuals accountable.\n",
      "\n",
      "\n"
     ]
    }
   ],
   "source": [
    "print(together)"
   ]
  },
  {
   "cell_type": "code",
   "execution_count": 78,
   "metadata": {},
   "outputs": [],
   "source": [
    "judge = f\"\"\"You are judging a competition between {len(competitors)} competitors.\n",
    "Each model has been given this question:\n",
    "\n",
    "{question}\n",
    "\n",
    "Your job is to evaluate each response for clarity and strength of argument, and rank them in order of best to worst.\n",
    "Respond with JSON, and only JSON, with the following format:\n",
    "{{\"results\": [\"best competitor number\", \"second best competitor number\", \"third best competitor number\", ...]}}\n",
    "\n",
    "Here are the responses from each competitor:\n",
    "\n",
    "{together}\n",
    "\n",
    "Now respond with the JSON with the ranked order of the competitors, nothing else. Do not include markdown formatting or code blocks.\"\"\"\n"
   ]
  },
  {
   "cell_type": "code",
   "execution_count": 79,
   "metadata": {},
   "outputs": [
    {
     "name": "stdout",
     "output_type": "stream",
     "text": [
      "You are judging a competition between 3 competitors.\n",
      "Each model has been given this question:\n",
      "\n",
      "How can the concept of moral relativism be reconciled with the pursuit of universal human rights in a globally interconnected society?\n",
      "\n",
      "Your job is to evaluate each response for clarity and strength of argument, and rank them in order of best to worst.\n",
      "Respond with JSON, and only JSON, with the following format:\n",
      "{\"results\": [\"best competitor number\", \"second best competitor number\", \"third best competitor number\", ...]}\n",
      "\n",
      "Here are the responses from each competitor:\n",
      "\n",
      "# Response from competitor 1\n",
      "\n",
      "The reconciliation of moral relativism with the pursuit of universal human rights in a globally interconnected society is a complex challenge that involves navigating differing cultural values, ethical beliefs, and social norms. Here are several ways this reconciliation can be approached:\n",
      "\n",
      "1. **Understanding Cultural Contexts**: Moral relativism posits that moral truths are not absolute but are shaped by cultural contexts and social constructs. Recognizing and respecting diverse values can encourage dialogue about human rights while acknowledging that different cultures may interpret these rights differently. This understanding can help advocates of universal human rights to communicate effectively and sensitively with various cultural perspectives.\n",
      "\n",
      "2. **Finding Common Ground**: Although cultures may differ in their values, many share fundamental principles. The pursuit of universal human rights can be strengthened by identifying these shared values, such as the inherent dignity of the individual, justice, and equality. Documents like the Universal Declaration of Human Rights (UDHR), while framed through a Western lens, include concepts that resonate across cultures, offering a basis for dialogue and cooperation.\n",
      "\n",
      "3. **Inclusive Human Rights Frameworks**: Incorporating local customs and values into human rights frameworks can help bridge the gap between moral relativism and universalism. By allowing for culturally specific interpretations of rights that maintain core principles, such frameworks can be more widely accepted while still promoting human dignity and justice.\n",
      "\n",
      "4. **Promoting Human Rights as Aspirational Goals**: Rather than imposing a one-size-fits-all understanding of human rights, they can be framed as aspirational goals that societies strive toward, allowing for gradual social evolution and adaptation as cultures negotiate these rights internally. This approach acknowledges existing moral frameworks while pushing for broader acceptance of human rights principles over time.\n",
      "\n",
      "5. **Encouraging Ethical Dialogue**: Moral relativism emphasizes dialogue and understanding as essential tools for resolving ethical disputes. Global conversations about human rights can lead to a richer, more nuanced understanding of how these rights are interpreted in different contexts. This dialogue can facilitate the development of hybrid solutions that respect cultural differences while promoting fundamental human rights.\n",
      "\n",
      "6. **Emphasizing Accountability**: Ultimately, human rights should serve as a framework for accountability in a globalized world. Engaging with local communities to address their specific rights concerns can build a stronger foundation for protecting rights while respecting cultural diversity. Accountability mechanisms that respect local traditions, yet uphold core human rights standards, can create bridges between relativism and universality.\n",
      "\n",
      "7. **Education and Awareness**: Promoting awareness about the importance of human rights across different cultures can help foster a universal ethos that respects diversity while advocating for fundamental freedoms. Educational initiatives based on empathy and cross-cultural understanding can transform societal norms and attitudes toward both cultural practices and human rights.\n",
      "\n",
      "By navigating the tensions between moral relativism and universal human rights through dialogue, education, and a commitment to mutual respect, societies can work towards a more harmonious global community that honors both cultural diversity and the shared dignity of all people.\n",
      "\n",
      "# Response from competitor 2\n",
      "\n",
      "# Moral Relativism and Universal Human Rights: Finding Common Ground\n",
      "\n",
      "This is a profound philosophical tension. Moral relativism suggests ethical standards are culturally determined, while universal human rights presupposes cross-cultural moral principles. Several approaches attempt reconciliation:\n",
      "\n",
      "**Minimal Universalism**: Identifying core protections against extreme suffering that transcend cultural differences while allowing cultural variation in other domains.\n",
      "\n",
      "**Overlapping Consensus**: As proposed by Rawls, diverse cultures may support similar rights for different underlying reasons, finding agreement on practices without requiring agreement on justifications.\n",
      "\n",
      "**Dialogical Approach**: Establishing cross-cultural dialogue where rights emerge through inclusive conversation rather than imposition. This recognizes both cultural context and human commonality.\n",
      "\n",
      "**Capabilities Approach**: Focusing on enabling fundamental human capabilities that allow flourishing across cultures, as articulated by Sen and Nussbaum.\n",
      "\n",
      "The most promising reconciliations acknowledge both human commonality and cultural diversity, viewing rights as evolving through cross-cultural engagement rather than as fixed Western impositions or entirely relative constructs.\n",
      "\n",
      "# Response from competitor 3\n",
      "\n",
      "The concept of moral relativism, which suggests that moral judgments are relative to the cultural, historical, or personal context, can create tension with the idea of universal human rights, which are intended to be absolute and applicable to all individuals regardless of their cultural or national background. To reconcile these two concepts, several approaches can be taken:\n",
      "\n",
      "1. **Minimalist Universalism**: This approach recognizes that, despite cultural differences, there are some basic human rights and dignity that should be respected universally, such as the right to life, freedom from torture, and freedom of conscience. This minimalist approach can provide a foundation for universal human rights that can be accepted across different cultural contexts.\n",
      "2. **Overlapping Consensus**: This concept, developed by John Rawls, suggests that while different cultures may have different moral and philosophical foundations, there can be an overlapping consensus on certain basic human rights and principles. This approach can help identify areas of agreement that can be used as a basis for universal human rights.\n",
      "3. **Contextual Universality**: This approach recognizes that universal human rights can be applied in different contexts, but the specific implementation and interpretation of these rights may vary depending on the cultural, historical, and social context. This approach can help balance the need for universal standards with the need for cultural sensitivity and adaptability.\n",
      "4. **Dialogue and Deliberation**: Engaging in open and inclusive dialogue and deliberation can help reconcile moral relativism with universal human rights. By listening to and learning from different perspectives, individuals and societies can develop a deeper understanding of the universal values and principles that underlie human rights, and find ways to apply them in a culturally sensitive and context-specific manner.\n",
      "5. **Common Humanity**: This approach emphasizes the shared human experience and the commonalities that exist across different cultures and societies. By recognizing that all individuals share a common humanity, we can develop a sense of universal solidarity and responsibility for promoting human rights and dignity, regardless of cultural or national differences.\n",
      "6. **Principled Pragmatism**: This approach recognizes that, in a globally interconnected society, moral relativism and universal human rights are not mutually exclusive, but rather complementary. By applying a principled and pragmatic approach, we can balance the need for cultural sensitivity with the need for universal standards, and find ways to promote human rights and dignity in a way that is respectful of different cultural contexts.\n",
      "7. **Human Rights as a Language of Moral Discourse**: This approach views human rights as a shared language of moral discourse, which can facilitate communication and cooperation across different cultural and national boundaries. By using human rights as a common language, individuals and societies can engage in a shared moral conversation, even if they do not agree on all the specifics of moral relativism.\n",
      "\n",
      "In conclusion, the reconciliation of moral relativism with universal human rights requires a nuanced and context-specific approach. By recognizing the complexities and diversity of human experience, and by engaging in open and inclusive dialogue, we can develop a deeper understanding of the universal values and principles that underlie human rights, and find ways to apply them in a way that is respectful of different cultural contexts and promotes the dignity and well-being of all individuals.\n",
      "\n",
      "**Key Strategies for Reconciliation:**\n",
      "\n",
      "1. Encourage dialogue and deliberation across cultural and national boundaries.\n",
      "2. Develop a shared language of moral discourse based on human rights.\n",
      "3. Emphasize the shared human experience and common humanity.\n",
      "4. Apply a principled and pragmatic approach to promoting human rights.\n",
      "5. Recognize the importance of cultural sensitivity and adaptability in implementing human rights.\n",
      "6. Foster a culture of inclusivity, tolerance, and respect for diversity.\n",
      "\n",
      "**Challenges and Limitations:**\n",
      "\n",
      "1. Balancing cultural sensitivity with universal standards.\n",
      "2. Addressing power imbalances and inequalities in the promotion of human rights.\n",
      "3. Managing conflicting moral and philosophical perspectives.\n",
      "4. Ensuring that human rights are not used as a tool for cultural imperialism or Western dominance.\n",
      "5. Developing effective mechanisms for enforcing human rights and holding states and individuals accountable.\n",
      "\n",
      "\n",
      "\n",
      "Now respond with the JSON with the ranked order of the competitors, nothing else. Do not include markdown formatting or code blocks.\n"
     ]
    }
   ],
   "source": [
    "print(judge)"
   ]
  },
  {
   "cell_type": "code",
   "execution_count": 80,
   "metadata": {},
   "outputs": [],
   "source": [
    "judge_messages = [{\"role\": \"user\", \"content\": judge}]"
   ]
  },
  {
   "cell_type": "code",
   "execution_count": 81,
   "metadata": {},
   "outputs": [
    {
     "name": "stdout",
     "output_type": "stream",
     "text": [
      "{\"results\": [\"1\", \"3\", \"2\"]}\n"
     ]
    }
   ],
   "source": [
    "# Judgement time!\n",
    "\n",
    "openai = OpenAI()\n",
    "response = openai.chat.completions.create(\n",
    "    model=\"o3-mini\",\n",
    "    messages=judge_messages,\n",
    ")\n",
    "results = response.choices[0].message.content\n",
    "print(results)\n"
   ]
  },
  {
   "cell_type": "code",
   "execution_count": 82,
   "metadata": {},
   "outputs": [
    {
     "name": "stdout",
     "output_type": "stream",
     "text": [
      "Rank 1: gpt-4o-mini\n",
      "Rank 2: llama-3.3-70b-versatile\n",
      "Rank 3: claude-3-7-sonnet-latest\n"
     ]
    }
   ],
   "source": [
    "# OK let's turn this into results!\n",
    "\n",
    "results_dict = json.loads(results)\n",
    "ranks = results_dict[\"results\"]\n",
    "for index, result in enumerate(ranks):\n",
    "    competitor = competitors[int(result)-1]\n",
    "    print(f\"Rank {index+1}: {competitor}\")"
   ]
  },
  {
   "cell_type": "code",
   "execution_count": 83,
   "metadata": {},
   "outputs": [
    {
     "name": "stdout",
     "output_type": "stream",
     "text": [
      "[['1', '3', '2']]\n"
     ]
    }
   ],
   "source": [
    "judge_raw = []\n",
    "judge_raw.append( results_dict[\"results\"])\n",
    "print(judge_raw)"
   ]
  },
  {
   "cell_type": "code",
   "execution_count": null,
   "metadata": {},
   "outputs": [],
   "source": []
  },
  {
   "cell_type": "code",
   "execution_count": 90,
   "metadata": {},
   "outputs": [
    {
     "data": {
      "text/markdown": [
       "{\"results\": [\"3\", \"1\", \"2\"]}"
      ],
      "text/plain": [
       "<IPython.core.display.Markdown object>"
      ]
     },
     "metadata": {},
     "output_type": "display_data"
    }
   ],
   "source": [
    "# Anthropic to create the judge 2\n",
    "judge_messages = [{\"role\": \"user\", \"content\": judge}]\n",
    "model_name = \"claude-3-7-sonnet-latest\"\n",
    "\n",
    "claude = Anthropic()\n",
    "results = claude.messages.create(model=model_name, messages=judge_messages, max_tokens=1000)\n",
    "answer = results.content[0].text\n",
    "display(Markdown(answer))\n"
   ]
  },
  {
   "cell_type": "code",
   "execution_count": 91,
   "metadata": {},
   "outputs": [
    {
     "name": "stdout",
     "output_type": "stream",
     "text": [
      "Rank 1: llama-3.3-70b-versatile\n",
      "Rank 2: gpt-4o-mini\n",
      "Rank 3: claude-3-7-sonnet-latest\n"
     ]
    }
   ],
   "source": [
    "results_dict = json.loads(answer)\n",
    "ranks = results_dict[\"results\"]\n",
    "for index, result in enumerate(ranks):\n",
    "    competitor = competitors[int(result)-1]\n",
    "    print(f\"Rank {index+1}: {competitor}\")"
   ]
  },
  {
   "cell_type": "code",
   "execution_count": 92,
   "metadata": {},
   "outputs": [],
   "source": [
    "#appenda antropic ranks\n",
    "judge_raw.append(ranks)"
   ]
  },
  {
   "cell_type": "code",
   "execution_count": 93,
   "metadata": {},
   "outputs": [
    {
     "data": {
      "text/markdown": [
       "{\"results\": [1, 3, 2]}"
      ],
      "text/plain": [
       "<IPython.core.display.Markdown object>"
      ]
     },
     "metadata": {},
     "output_type": "display_data"
    }
   ],
   "source": [
    "# Groq judge 3\n",
    "judge_messages = [{\"role\": \"user\", \"content\": judge}]\n",
    "groq = OpenAI(api_key=groq_api_key, base_url=\"https://api.groq.com/openai/v1\")\n",
    "model_name = \"llama-3.3-70b-versatile\"\n",
    "\n",
    "response = groq.chat.completions.create(model=model_name, messages=judge_messages)\n",
    "answer = response.choices[0].message.content\n",
    "\n",
    "display(Markdown(answer))\n",
    "\n",
    "\n"
   ]
  },
  {
   "cell_type": "code",
   "execution_count": null,
   "metadata": {},
   "outputs": [
    {
     "name": "stdout",
     "output_type": "stream",
     "text": [
      "Rank 1: gpt-4o-mini\n",
      "Rank 2: llama-3.3-70b-versatile\n",
      "Rank 3: claude-3-7-sonnet-latest\n"
     ]
    }
   ],
   "source": [
    "results_dict = json.loads(answer)\n",
    "ranks = results_dict[\"results\"]\n",
    "for index, result in enumerate(ranks):\n",
    "    competitor = competitors[int(result)-1]\n",
    "    print(f\"Rank {index+1}: {competitor}\")\n"
   ]
  },
  {
   "cell_type": "code",
   "execution_count": 94,
   "metadata": {},
   "outputs": [],
   "source": [
    "judge_raw.append(ranks)"
   ]
  },
  {
   "cell_type": "code",
   "execution_count": 97,
   "metadata": {},
   "outputs": [
    {
     "name": "stdout",
     "output_type": "stream",
     "text": [
      "[2.0, 2.0, 2.0]\n"
     ]
    }
   ],
   "source": [
    "# calculate the ranks from models\n",
    "import numpy as np\n",
    "final_ranks = []\n",
    "for out_index, out_judge_raw in enumerate(judge_raw):\n",
    "    #m_rank = judge_raw[out_index][0]\n",
    "    m_rank = 0\n",
    "    max_index = len(judge_raw[out_index])\n",
    "    for i in range(max_index):\n",
    "        m_rank = m_rank + int(judge_raw[out_index][i])\n",
    "        #print(\"index\", i ,\" inner =\", judge_raw[out_index][i])\n",
    "        #print(\"m_rank =\", m_rank)\n",
    "    final_ranks.append(m_rank/len(judge_raw[out_index]))\n",
    "print(final_ranks)\n",
    "    \n"
   ]
  },
  {
   "cell_type": "markdown",
   "metadata": {},
   "source": [
    "<table style=\"margin: 0; text-align: left; width:100%\">\n",
    "    <tr>\n",
    "        <td style=\"width: 150px; height: 150px; vertical-align: middle;\">\n",
    "            <img src=\"../assets/exercise.png\" width=\"150\" height=\"150\" style=\"display: block;\" />\n",
    "        </td>\n",
    "        <td>\n",
    "            <h2 style=\"color:#ff7800;\">Exercise</h2>\n",
    "            <span style=\"color:#ff7800;\">Which pattern(s) did this use? Try updating this to add another Agentic design pattern.\n",
    "            </span>\n",
    "        </td>\n",
    "    </tr>\n",
    "</table>"
   ]
  },
  {
   "cell_type": "markdown",
   "metadata": {},
   "source": [
    "<table style=\"margin: 0; text-align: left; width:100%\">\n",
    "    <tr>\n",
    "        <td style=\"width: 150px; height: 150px; vertical-align: middle;\">\n",
    "            <img src=\"../assets/business.png\" width=\"150\" height=\"150\" style=\"display: block;\" />\n",
    "        </td>\n",
    "        <td>\n",
    "            <h2 style=\"color:#00bfff;\">Commercial implications</h2>\n",
    "            <span style=\"color:#00bfff;\">These kinds of patterns - to send a task to multiple models, and evaluate results,\n",
    "            are common where you need to improve the quality of your LLM response. This approach can be universally applied\n",
    "            to business projects where accuracy is critical.\n",
    "            </span>\n",
    "        </td>\n",
    "    </tr>\n",
    "</table>"
   ]
  }
 ],
 "metadata": {
  "kernelspec": {
   "display_name": "agents",
   "language": "python",
   "name": "python3"
  },
  "language_info": {
   "codemirror_mode": {
    "name": "ipython",
    "version": 3
   },
   "file_extension": ".py",
   "mimetype": "text/x-python",
   "name": "python",
   "nbconvert_exporter": "python",
   "pygments_lexer": "ipython3",
   "version": "3.12.11"
  }
 },
 "nbformat": 4,
 "nbformat_minor": 2
}
